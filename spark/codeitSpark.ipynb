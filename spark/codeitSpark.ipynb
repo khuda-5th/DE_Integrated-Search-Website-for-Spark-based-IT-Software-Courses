{
 "cells": [
  {
   "cell_type": "code",
   "execution_count": 1,
   "id": "97b4609a-ad57-49a4-a8b0-bf62e394b666",
   "metadata": {},
   "outputs": [
    {
     "name": "stdout",
     "output_type": "stream",
     "text": [
      "Requirement already satisfied: pandas in /usr/local/lib/python3.10/dist-packages (2.2.2)\n",
      "Requirement already satisfied: numpy>=1.22.4 in /usr/local/lib/python3.10/dist-packages (from pandas) (1.26.4)\n",
      "Requirement already satisfied: python-dateutil>=2.8.2 in /usr/local/lib/python3.10/dist-packages (from pandas) (2.9.0.post0)\n",
      "Requirement already satisfied: pytz>=2020.1 in /usr/local/lib/python3.10/dist-packages (from pandas) (2024.1)\n",
      "Requirement already satisfied: tzdata>=2022.7 in /usr/local/lib/python3.10/dist-packages (from pandas) (2024.1)\n",
      "Requirement already satisfied: six>=1.5 in /usr/lib/python3/dist-packages (from python-dateutil>=2.8.2->pandas) (1.16.0)\n",
      "\u001b[33mWARNING: Running pip as the 'root' user can result in broken permissions and conflicting behaviour with the system package manager. It is recommended to use a virtual environment instead: https://pip.pypa.io/warnings/venv\u001b[0m\u001b[33m\n",
      "\u001b[0mRequirement already satisfied: sumy in /usr/local/lib/python3.10/dist-packages (0.11.0)\n",
      "Requirement already satisfied: docopt<0.7,>=0.6.1 in /usr/local/lib/python3.10/dist-packages (from sumy) (0.6.2)\n",
      "Requirement already satisfied: breadability>=0.1.20 in /usr/local/lib/python3.10/dist-packages (from sumy) (0.1.20)\n",
      "Requirement already satisfied: requests>=2.7.0 in /usr/local/lib/python3.10/dist-packages (from sumy) (2.31.0)\n",
      "Requirement already satisfied: pycountry>=18.2.23 in /usr/local/lib/python3.10/dist-packages (from sumy) (23.12.11)\n",
      "Requirement already satisfied: nltk>=3.0.2 in /usr/local/lib/python3.10/dist-packages (from sumy) (3.8.1)\n",
      "Requirement already satisfied: chardet in /usr/local/lib/python3.10/dist-packages (from breadability>=0.1.20->sumy) (5.2.0)\n",
      "Requirement already satisfied: lxml>=2.0 in /usr/local/lib/python3.10/dist-packages (from breadability>=0.1.20->sumy) (5.2.2)\n",
      "Requirement already satisfied: click in /usr/local/lib/python3.10/dist-packages (from nltk>=3.0.2->sumy) (8.1.7)\n",
      "Requirement already satisfied: joblib in /usr/local/lib/python3.10/dist-packages (from nltk>=3.0.2->sumy) (1.4.2)\n",
      "Requirement already satisfied: regex>=2021.8.3 in /usr/local/lib/python3.10/dist-packages (from nltk>=3.0.2->sumy) (2024.5.15)\n",
      "Requirement already satisfied: tqdm in /usr/local/lib/python3.10/dist-packages (from nltk>=3.0.2->sumy) (4.66.4)\n",
      "Requirement already satisfied: charset-normalizer<4,>=2 in /usr/local/lib/python3.10/dist-packages (from requests>=2.7.0->sumy) (3.3.2)\n",
      "Requirement already satisfied: idna<4,>=2.5 in /usr/local/lib/python3.10/dist-packages (from requests>=2.7.0->sumy) (3.6)\n",
      "Requirement already satisfied: urllib3<3,>=1.21.1 in /usr/local/lib/python3.10/dist-packages (from requests>=2.7.0->sumy) (2.2.1)\n",
      "Requirement already satisfied: certifi>=2017.4.17 in /usr/local/lib/python3.10/dist-packages (from requests>=2.7.0->sumy) (2024.2.2)\n",
      "\u001b[33mWARNING: Running pip as the 'root' user can result in broken permissions and conflicting behaviour with the system package manager. It is recommended to use a virtual environment instead: https://pip.pypa.io/warnings/venv\u001b[0m\u001b[33m\n",
      "\u001b[0mRequirement already satisfied: psycopg2-binary in /usr/local/lib/python3.10/dist-packages (2.9.9)\n",
      "\u001b[33mWARNING: Running pip as the 'root' user can result in broken permissions and conflicting behaviour with the system package manager. It is recommended to use a virtual environment instead: https://pip.pypa.io/warnings/venv\u001b[0m\u001b[33m\n",
      "\u001b[0mRequirement already satisfied: pyspark in /usr/local/lib/python3.10/dist-packages (3.4.2)\n",
      "Requirement already satisfied: py4j==0.10.9.7 in /usr/local/lib/python3.10/dist-packages (from pyspark) (0.10.9.7)\n",
      "\u001b[33mWARNING: Running pip as the 'root' user can result in broken permissions and conflicting behaviour with the system package manager. It is recommended to use a virtual environment instead: https://pip.pypa.io/warnings/venv\u001b[0m\u001b[33m\n",
      "\u001b[0m"
     ]
    }
   ],
   "source": [
    "!pip install pandas\n",
    "!pip install sumy\n",
    "!pip install psycopg2-binary\n",
    "!pip install pyspark"
   ]
  },
  {
   "cell_type": "code",
   "execution_count": 2,
   "id": "8bcc5338-f50a-4fe0-8f9d-d92086d719cc",
   "metadata": {},
   "outputs": [],
   "source": [
    "import pandas as pd\n",
    "from pandas import DataFrame as df\n",
    "from pyspark.sql.functions import explode, trim, regexp_extract, array_join, col, regexp_replace, concat_ws, split, udf, lower, size, lit\n",
    "from pyspark.sql.types import FloatType\n",
    "\n",
    "# 실수 형태만 추출하는 함수 정의\n",
    "def extract_float(text):\n",
    "    import re\n",
    "    result = re.findall(r'\\d+\\.\\d+', text)\n",
    "    if result:\n",
    "        return float(result[0])\n",
    "    else:\n",
    "        return None\n",
    "\n",
    "extract_float_udf = udf(extract_float, FloatType())"
   ]
  },
  {
   "cell_type": "code",
   "execution_count": 3,
   "id": "d561f779-0023-443b-9a6c-2120905ef737",
   "metadata": {},
   "outputs": [],
   "source": [
    "from pyspark.sql import SparkSession\n",
    "from pyspark.sql.types import StructType, StructField, StringType, IntegerType, ArrayType"
   ]
  },
  {
   "cell_type": "code",
   "execution_count": 4,
   "id": "ec787423-bdad-4d9e-a3ba-402fd8470e0b",
   "metadata": {},
   "outputs": [
    {
     "name": "stderr",
     "output_type": "stream",
     "text": [
      "[nltk_data] Downloading package punkt to /root/nltk_data...\n",
      "[nltk_data]   Package punkt is already up-to-date!\n"
     ]
    },
    {
     "data": {
      "text/plain": [
       "True"
      ]
     },
     "execution_count": 4,
     "metadata": {},
     "output_type": "execute_result"
    }
   ],
   "source": [
    "import nltk\n",
    "nltk.download('punkt')"
   ]
  },
  {
   "cell_type": "code",
   "execution_count": 5,
   "id": "30f7af6c-4a57-4a45-b98a-986a7165bee4",
   "metadata": {},
   "outputs": [
    {
     "name": "stderr",
     "output_type": "stream",
     "text": [
      "Setting default log level to \"WARN\".\n",
      "To adjust logging level use sc.setLogLevel(newLevel). For SparkR, use setLogLevel(newLevel).\n",
      "24/05/23 17:11:46 WARN NativeCodeLoader: Unable to load native-hadoop library for your platform... using builtin-java classes where applicable\n"
     ]
    },
    {
     "name": "stdout",
     "output_type": "stream",
     "text": [
      "+---------------+-----------+\n",
      "|  category_name|platform_id|\n",
      "+---------------+-----------+\n",
      "|        웹 개발|          3|\n",
      "|데이터 사이언스|          3|\n",
      "|컴퓨터 사이언스|          3|\n",
      "|프로그래밍 언어|          3|\n",
      "|           기타|          3|\n",
      "+---------------+-----------+\n",
      "\n",
      "+---------------+--------------------+\n",
      "|  category_name|    subcategory_name|\n",
      "+---------------+--------------------+\n",
      "|        웹 개발|          프론트엔드|\n",
      "|        웹 개발|              백엔드|\n",
      "|        웹 개발|              풀스택|\n",
      "|데이터 사이언스|         데이터 분석|\n",
      "|데이터 사이언스|           인공 지능|\n",
      "|컴퓨터 사이언스|     프로그래밍 기초|\n",
      "|컴퓨터 사이언스|   알고리즘·자료구조|\n",
      "|컴퓨터 사이언스|객체 지향 프로그래밍|\n",
      "|프로그래밍 언어|              Python|\n",
      "|프로그래밍 언어|          JavaScript|\n",
      "|           기타|        데이터베이스|\n",
      "|           기타|         업무 자동화|\n",
      "|           기타|           개발 도구|\n",
      "|           기타|             IT 교양|\n",
      "|           기타|              디자인|\n",
      "+---------------+--------------------+\n",
      "\n",
      "+-----------------+-----------------------------+-----------------------------------+--------------+--------------------+\n",
      "| subcategory_name|                 course_title|                            summary|num_of_lecture|                 url|\n",
      "+-----------------+-----------------------------+-----------------------------------+--------------+--------------------+\n",
      "|알고리즘·자료구조|            알고리즘 패러다임| 알고리즘의 세계에도 모범 답안이...|            43|https://www.codei...|\n",
      "|        인공 지능|             인공 신경망 이론|  인공 지능은 기계가 사람처럼 행...|            54|https://www.codei...|\n",
      "|          IT 교양|                     블록체인|   블록체인, 암호화폐, 비트코인,...|            23|https://www.codei...|\n",
      "|       프론트엔드|    Next.js로 웹사이트 만들기|      요즘 React 기반으로 웹사이...|            48|https://www.codei...|\n",
      "|       프론트엔드|      React로 웹사이트 만들기|  대부분의 웹사이트는 여러 개의 ...|            22|https://www.codei...|\n",
      "|          IT 교양|               챗GPT 활용하기|      챗GPT, 신기하긴 한데 막상 ...|            21|https://www.codei...|\n",
      "|          IT 교양|              클라우드 컴퓨팅|   클라우드 컴퓨팅, 언뜻 보기엔 ...|            38|https://www.codei...|\n",
      "|       JavaScript|프로그래밍 핵심 개념 in Ja...|  프로그래밍은 몇 가지 핵심 개념...|            57|https://www.codei...|\n",
      "|           Python|프로그래밍 핵심 개념 in Py...|  프로그래밍은 몇 가지 핵심 개념...|            46|https://www.codei...|\n",
      "|       프론트엔드|           Next.js API 만들기|  프론트엔드 개발은 어느 정도 익...|            29|https://www.codei...|\n",
      "|       프론트엔드|                CSS 핵심 개념|  웹 퍼블리싱과 프론트엔드 개발 ...|            64|https://www.codei...|\n",
      "|       프론트엔드|                 CSS 레이아웃|  웹사이트에 있는 여러 가지 요소...|            54|https://www.codei...|\n",
      "|      데이터 분석|         데이터 분석과 시각화|  데이터를 분석한 결과를 누구나 ...|            56|https://www.codei...|\n",
      "|      데이터 분석|       SQL로 하는 데이터 분석|   데이터베이스를 다루려면 SQL이...|            97|https://www.codei...|\n",
      "|     데이터베이스|       SQL로 하는 데이터 관리|   데이터베이스를 다루려면 SQL이...|            57|https://www.codei...|\n",
      "|알고리즘·자료구조|             기본 자료 구조들|  도서관에서 일정한 규칙에 따라 ...|            86|https://www.codei...|\n",
      "|     데이터베이스|          데이터베이스 모델링|데이터베이스에 데이터를 저장하는...|            47|https://www.codei...|\n",
      "|        인공 지능|      결정 트리와 앙상블 기법|   결정 트리는 예/아니오로 답할 ...|            43|https://www.codei...|\n",
      "|           풀스택|                  Django CRUD|      CRUD는 데이터를 다룰 때 반...|            79|https://www.codei...|\n",
      "|           풀스택|         Django 모델 파헤치기|  웹 서비스에서 다양한 기능을 쉽...|            95|https://www.codei...|\n",
      "+-----------------+-----------------------------+-----------------------------------+--------------+--------------------+\n",
      "only showing top 20 rows\n",
      "\n"
     ]
    }
   ],
   "source": [
    "# Spark 세션 초기화\n",
    "spark = SparkSession.builder \\\n",
    "    .appName(\"JSON to DataFrame\") \\\n",
    "    .getOrCreate()\n",
    "\n",
    "# JSON 파일 읽기\n",
    "df = spark.read.option(\"multiline\", \"true\").json(\"codeit_lectures.json\")\n",
    "\n",
    "# CATEGORY 테이블에 삽입할 정보를 담은 df\n",
    "df_category = df.select(col(\"big_categ\").alias(\"category_name\")) \\\n",
    "                .withColumn(\"platform_id\", lit(3)) \\\n",
    "                .dropna()\n",
    "\n",
    "# SUBCATEGORY 테이블에 삽입할 정보를 담은 df\n",
    "df_subcategory = df.withColumn(\"sub_categs\", explode(col(\"sub_categs\"))) \\\n",
    "                .select(\n",
    "                    col(\"big_categ\").alias(\"category_name\"),\n",
    "                    col(\"sub_categs.sub_categ\").alias(\"subcategory_name\")\n",
    "                ) \\\n",
    "                .dropna()\n",
    "\n",
    "# COURSE 테이블에 삽입할 정보를 담은 df\n",
    "df_course = df.withColumn(\"sub_categs\", explode(col(\"sub_categs\"))) \\\n",
    "                .withColumn(\"lectures\", explode(col(\"sub_categs.lectures\"))) \\\n",
    "                .select(\n",
    "                    col(\"sub_categs.sub_categ\").alias(\"subcategory_name\"),\n",
    "                    col(\"lectures.title\").alias(\"course_title\"),\n",
    "                    col(\"lectures.summary\").alias(\"summary\"),\n",
    "                    col(\"lectures.lecture_num\").alias(\"num_of_lecture\"),\n",
    "                    col(\"lectures.link\").alias(\"url\")\n",
    "                ) \\\n",
    "                .dropna()\n",
    "\n",
    "# num_of_lecture에서 숫자 정보만 추출\n",
    "df_course = df_course.withColumn(\"num_of_lecture\", regexp_extract(col(\"num_of_lecture\"), \"\\\\d+\", 0).cast(\"int\")) \n",
    "df_course = df_course.dropDuplicates([\"url\"])\n",
    "\n",
    "# 최종 데이터 확인\n",
    "df_category.show()\n",
    "df_subcategory.show()\n",
    "df_course.show()"
   ]
  },
  {
   "cell_type": "code",
   "execution_count": 6,
   "id": "3a61bf8f-f931-4087-8551-2299fd3ff003",
   "metadata": {},
   "outputs": [
    {
     "data": {
      "text/plain": [
       "81"
      ]
     },
     "execution_count": 6,
     "metadata": {},
     "output_type": "execute_result"
    }
   ],
   "source": [
    "df_course.count() "
   ]
  },
  {
   "cell_type": "code",
   "execution_count": 14,
   "id": "61766391-8790-4112-8045-4439a6d2ba70",
   "metadata": {
    "collapsed": true,
    "jupyter": {
     "outputs_hidden": true,
     "source_hidden": true
    },
    "scrolled": true
   },
   "outputs": [
    {
     "name": "stdout",
     "output_type": "stream",
     "text": [
      "+------------------------------------------+----------------------------------------------------------------------------------------------------------------------------------------------------------------------------------------------------------------------------------------------------------------------------------------------------------------------------------------------------------------------------------------------------------------------------------------------------------------------------------------------------------------------------------------------------------------------------------------------------------------------------------------------------------------------------------------------------------------------------------------------------------------------------------------------------------------------------------------------------------------------------------------------------------------------------------------------------------------------------------------------------------------------------------------------------------------------------------------------------------------------------------------------------------------------------------------------------------------------------------------------------------------------------------------------------------------------------------------------------------------------------------------------------------------------------------------------------------------------------------------------------------------------------------------------------------------------------------------------------------------------------------------------------------------------------------------------------------------------------------------------------------------------------------------------------------------------------------------------------------------------------------------------------------------------------------------------------------------------------------------------------------------------------------------------------------------------------------------------------------------------------------------------------------------------------------------------------------------------------------------------------------------------------------------------------------------------------------------------------------------------------------------------------------------------------------------------------------------------------+--------------------------------------------------------------------------------------------------------------------------------------------------------------------------------------------------------------------------------------------------------------------------------------------------------------------------------+\n",
      "|course_title                              |section_str                                                                                                                                                                                                                                                                                                                                                                                                                                                                                                                                                                                                                                                                                                                                                                                                                                                                                                                                                                                                                                                                                                                                                                                                                                                                                                                                                                                                                                                                                                                                                                                                                                                                                                                                                                                                                                                                                                                                                                                                                                                                                                                                                                                                                                                                                                                                                                                                                                                                 |split_sections                                                                                                                                                                                                                                                                                                                  |\n",
      "+------------------------------------------+----------------------------------------------------------------------------------------------------------------------------------------------------------------------------------------------------------------------------------------------------------------------------------------------------------------------------------------------------------------------------------------------------------------------------------------------------------------------------------------------------------------------------------------------------------------------------------------------------------------------------------------------------------------------------------------------------------------------------------------------------------------------------------------------------------------------------------------------------------------------------------------------------------------------------------------------------------------------------------------------------------------------------------------------------------------------------------------------------------------------------------------------------------------------------------------------------------------------------------------------------------------------------------------------------------------------------------------------------------------------------------------------------------------------------------------------------------------------------------------------------------------------------------------------------------------------------------------------------------------------------------------------------------------------------------------------------------------------------------------------------------------------------------------------------------------------------------------------------------------------------------------------------------------------------------------------------------------------------------------------------------------------------------------------------------------------------------------------------------------------------------------------------------------------------------------------------------------------------------------------------------------------------------------------------------------------------------------------------------------------------------------------------------------------------------------------------------------------------+--------------------------------------------------------------------------------------------------------------------------------------------------------------------------------------------------------------------------------------------------------------------------------------------------------------------------------+\n",
      "|반응형 웹 퍼블리싱                        |1\\n반응형 웹\\n3개의 레슨\\n반응형 웹\\n04:09\\n반응형 그리드\\n이노\\n2\\n부트스트랩\\n5개의 레슨\\n새로운 기술을 배우는 법\\n부트스트랩 소개\\n04:29\\n부트스트랩 그리드\\n부트스트랩 반응형 그리드\\n재능 공유 사이트                                                                                                                                                                                                                                                                                                                                                                                                                                                                                                                                                                                                                                                                                                                                                                                                                                                                                                                                                                                                                                                                                                                                                                                                                                                                                                                                                                                                                                                                                                                                                                                                                                                                                                                                                                                                                                                                                                                                                                                                                                                                                                                                                                                                                                                                  |반응형 웹\\n3개의 레슨\\n반응형 웹\\n04:                                                                                                                                                                                                                                                                                           |\n",
      "|웹 퍼블리싱 시작하기                      |1\\n수업 소개\\n5개의 레슨\\n무료\\n웹사이트는 어떻게 만드나요?\\n04:04\\n무료\\n만들어 볼 사이트 소개\\n01:19\\n무료\\n프로그램 설치하기\\n무료\\n나의 첫 웹사이트\\n04:48\\n무료\\n1분 만에 웹사이트 런칭하기\\n02:53\\n2\\nHTML 시작하기\\n19개의 레슨\\n무료\\n사이트에 이름 붙이기\\n04:54\\n무료\\n구독 페이지: 사이트 이름\\n한글이 깨져요!\\n02:42\\n제목\\n03:19\\n구독 페이지: 제목 넣기\\n본문 넣기\\n01:42\\n구독 페이지: 본문 넣기\\n줄 바꿈\\n01:47\\n구독 페이지: 제목에 줄바꿈 넣기\\n꺾쇠 기호 넣는 법\\n링크\\n03:37\\n구독 페이지: 링크 추가하기\\n이미지\\n04:14\\n구독 페이지: 이미지 넣기\\n위키 페이지 만들기\\n영역 나누기\\n03:57\\nHTML 문법 정리\\nHTML 문법 퀴즈\\nHTML 코드를 편하게 입력하는 법\\n3\\nCSS 시작하기\\n19개의 레슨\\n색상\\n배경색\\n04:48\\n구독 페이지: 배경색 넣기\\n글자색\\n03:58\\n구독 페이지: 링크에 색상 넣기\\n글꼴\\n03:34\\n구글 폰트\\n구독 페이지: 글꼴 넣기\\n픽셀\\n글자 크기와 굵기\\n04:03\\n구독 페이지: 폰트 크기와 굵기\\n글 정렬하기\\n02:50\\n구독 페이지: 정렬\\n크기\\n04:49\\n여백\\n06:24\\n구독 페이지: 크기와 여백\\nCodechella Music Festival\\nCSS 문법 정리\\nCSS 문법 퀴즈\\n4\\n완성하기\\n5개의 레슨\\n페이지끼리 연결하기\\n01:37\\n구독 페이지: 페이지 연결하기\\n오픈그래프로 소셜 공유 미리보기 만들기\\n04:58\\n구글 애널리틱스로 방문자 수 확인하기\\n05:54\\n도메인 설정하기\\n5\\n꿀팁\\n4개의 레슨\\n개발자 도구 사용하기\\n02:41\\n개발자 도구 실습\\n편리한 도구 소개\\nHTML/CSS를 공부하는 법\\n03:33                                                                                                                                                                                                                                                                                                                                                                                                                                                                                                                                                                                                                                                                                                                                                                                                                                                                                                                                                                                                                                                                             |수업 소개\\n5개의 레슨\\n무료\\n웹사이트는 어떻게 만드나요?\\n04:                                                                                                                                                                                                                                                                   |\n",
      "|인터랙티브 자바스크립트                   |1\\n인터랙티브 자바스크립트 시작하기\\n13개의 레슨\\n웹 서비스와 JavaScript\\n02:06\\nHTML/CSS + JavaScript 맛보기\\n03:00\\nid로 태그 선택하기\\n03:29\\nid로 태그 선택하기 퀴즈\\nclass로 태그 선택하기\\n04:52\\n유사 배열(Array-Like Object)이란..?\\nclass로 태그 선택 퀴즈\\n태그 이름으로 태그 선택하기\\ncss 선택자로 태그 선택하기\\n03:48\\ncss 선택자로 태그 선택하기 퀴즈\\n이벤트와 버튼 클릭\\n04:13\\n정답일까?\\n종합 정리\\n2\\n브라우저와 자바스크립트\\n19개의 레슨\\n브라우저도 객체다?\\n03:42\\nDOM\\n03:19\\nconsole.dir?\\nDOM 트리\\n02:46\\nDOM 트리 여행하기\\n04:30\\nDOM 트리 여행하기: 부록\\nDOM 트리 여행하기 퀴즈\\n요소 노드 프로퍼티\\n04:53\\ninner/outerHTML, textContent 비교\\n요소 노드 프로퍼티 퀴즈\\n요소 노드 추가하기\\n04:03\\n노드 삭제와 이동하기\\n04:10\\n오늘 꼭 해야할 일!\\nHTML 속성 다루기\\n04:40\\nHTML 속성 다루기 퀴즈\\n스타일 다루기\\n06:02\\n스타일 다루기 퀴즈\\n비표준 속성 다루기\\n종합 정리\\n3\\n이벤트 살펴보기\\n14개의 레슨\\n이벤트 핸들러 등록하기\\n05:38\\n다양한 이벤트\\n이벤트 핸들러 등록하기 퀴즈\\n이벤트 객체\\n03:30\\n이벤트 객체 프로퍼티\\n완료한 일 체크하기!\\n이벤트 버블링\\n05:23\\n캡쳐링\\n이벤트 버블링 퀴즈\\n이벤트 위임\\n05:23\\n효율적으로 완료한 일 체크하기!\\n브라우저의 기본 동작\\n04:09\\n브라우저의 기본 동작 퀴즈\\n종합 정리\\n4\\n다양한 이벤트 알아보기\\n13개의 레슨\\n마우스 버튼 이벤트\\n04:03\\n청기 올려?! 백기 올려?!\\n마우스 이동 이벤트 I\\n02:46\\nclient, page, offset 차이\\n마우스 이동 이벤트 II\\n03:10\\nmouseenter / mouseleave\\n효준이네 집\\n키보드 이벤트\\n03:37\\n똑Talk한 Enter키!\\ninput 태그 다루기\\n05:50\\n코드잇 산성비\\n스크롤 이벤트\\n02:38\\n종합 정리                                                                                                                                                                                                                                                                                                                                                                                                                                                                                                                                                                                                                                                                                                                                                                                                                                                                  |인터랙티브 자바스크립트 시작하기\\n13개의 레슨\\n웹 서비스와 JavaScript\\n02:                                                                                                                                                                                                                                                      |\n",
      "|React 웹 개발 시작하기                    |1\\nReact 시작하기\\n5개의 레슨\\n리액트의 탄생\\n03:19\\n개발 환경 세팅하기 (Mac)\\n05:59\\n개발 환경 세팅하기 (Windows)\\n06:25\\n나의 첫 리액트 프로젝트\\n06:11\\n리액트 개발자 도구 살펴보기\\n03:52\\n2\\nReact 개발 기초\\n40개의 레슨\\n프로젝트 소개\\n02:27\\n리액트 최신 버전에 대한 안내\\n프로젝트 세팅\\n04:17\\n코드잇 리액트 실행기를 알아보자\\n인덱스 파일에서 하는 일\\n04:10\\nJSX\\n04:27\\n프래그먼트\\n03:12\\n가위바위보 - 간단 버전 (1)\\nJSX에서 자바스크립트 사용하기\\n05:12\\n가위바위보 - 간단 버전 (2)\\nJSX 문법\\nJSX 퀴즈\\n컴포넌트\\n07:20\\n가위바위보 - HandIcon\\n컴포넌트 문법\\nProps\\n07:00\\n가위바위보 - HandIcon (2)\\n가위바위보 - HandButton\\nchildren\\n03:47\\n가위바위보 - 초기화 버튼\\nProps 정리하기\\nProps 퀴즈\\nState\\n06:18\\n가위바위보 - 패 고르기\\n참조형 State\\n07:19\\n가위바위보 - 승부 기록\\n가위바위보 - 배점\\nState 정리하기\\nState 퀴즈\\n컴포넌트가 좋은 이유\\n04:35\\n컴포넌트 재사용하기\\n06:30\\n코드 정리하기\\n02:52\\n리액트가 렌더링하는 방식\\n04:35\\n인라인 스타일\\n03:42\\n가위바위보 - HandButton 인라인 스타일\\nCSS 클래스네임\\n07:08\\n가위바위보 - HandButton 클래스네임 적용\\n디자인 적용하는 방법과 팁\\n디자인 적용 퀴즈\\n마무리 하기 (디자인 예시와 파일)\\n3\\nReact 배포하기\\n5개의 레슨\\n빌드하기\\n04:14\\n명령어 다시보기\\n웹 사이트 배포하기 (AWS S3)\\n08:10\\n(옵션) 커스텀 도메인 달기 (AWS Route53)\\n브라우저는 어떻게 리액트를 알아들을까?\\n04:36                                                                                                                                                                                                                                                                                                                                                                                                                                                                                                                                                                                                                                                                                                                                                                                                                                                                                                                                                                                                                                                                                       |React 시작하기\\n5개의 레슨\\n리액트의 탄생\\n03:                                                                                                                                                                                                                                                                                  |\n",
      "|CSS 핵심 개념                             |1\\n기본 개념\\n13개의 레슨\\nCSS 핵심 개념 소개\\n04:30\\nCSS 규칙\\n01:27\\n아이디\\n03:32\\n클래스\\n03:02\\nCSS 파일\\n02:28\\n명언\\n개발자 도구로 선택자 확인하기\\n02:10\\n다양한 색상 단위\\n05:26\\n다양한 크기 단위\\n04:14\\n이브 클랭의 파란색\\n기본 개념 정리\\n코멘트\\nCSS 버전\\n2\\n자주 쓰는 CSS 속성\\n9개의 레슨\\n텍스트 스타일링 정리\\n코드잇 베리타스\\n배경 이미지: background-image\\n05:18\\n그라디언트: linear-gradient\\n03:28\\n아이유의 좋은 날\\n그림자: box-shadow\\n02:46\\n불투명도: opacity\\n01:41\\n자유여행 액티비티\\n새로 배운 CSS 속성 정리\\n3\\n박스 모델\\n14개의 레슨\\n박스 모델\\n02:47\\n박스 모델 퀴즈\\n다양한 padding, margin 표기법\\npadding, margin 표기법 퀴즈\\nborder와 border-radius\\n02:09\\n자동차 광고\\nbox-sizing\\n02:41\\nCSS is awesome\\noverflow\\n02:26\\n코드잇 미술관: 모네, 빛을 그리다\\n마진 상쇄\\n02:04\\n마진 상쇄 퀴즈\\n박스 모델 정리\\n코드잇 미술관: 로그인 화면\\n4\\nDisplay\\n8개의 레슨\\n블록과 인라인\\n02:36\\n세종대왕이 CSS를 한다면?\\n인라인 블록\\n03:24\\nfloat\\n01:43\\n코드잇 미술관: 인삿말\\nDisplay 퀴즈\\nDisplay 정리\\n코드잇 미술관\\n5\\n선택자\\n13개의 레슨\\nCSS 선택자\\n01:37\\n선택자 목록\\n01:21\\nChainit: 헤더 레이아웃\\n선택자 붙여 쓰기\\n05:16\\n태그, 아이디, 클래스 선택자 퀴즈\\n자식, 자손 선택하기\\n04:02\\nChainit: 상장 코인\\n가상 클래스\\n06:03\\nChainit: 채용공고\\n선택자 정리\\n팁: 알아두면 좋은 선택자\\n팁: 선택자 레시피\\nChainit\\n6\\n스타일 계산하기\\n7개의 레슨\\n캐스케이드\\n02:52\\n캐스케이드 순서\\n05:15\\n코드잇 항공: 매진 항공편\\n상속\\n02:12\\n스타일 계산하기 퀴즈\\n스타일 계산하기 정리\\n코드잇 항공                                                                                                                                                                                                                                                                                                                                                                                                                                                                                                                                                                                                                                                                                                                                                                                                                                                                                                                 |기본 개념\\n13개의 레슨\\nCSS 핵심 개념 소개\\n04:                                                                                                                                                                                                                                                                                 |\n",
      "|HTML 핵심 개념                            |1\\n시작하기\\n4개의 레슨\\nHTML이란?\\n03:58\\nHTML의 기본 문법\\n02:36\\n코멘트\\n02:22\\nHTML 시작하기 퀴즈\\n2\\n링크\\n8개의 레슨\\n링크의 상대 주소\\n11:03\\n링크의 상대 주소 퀴즈\\n페이지 안에서 이동하기\\n03:10\\n백과사전 목차\\n새 창 열기\\n02:31\\n다양한 링크 동작\\n소셜 미디어 프로필\\n링크 정리\\n3\\n텍스트\\n2개의 레슨\\n자주 쓰는 텍스트 태그\\n커피에 관한 이야기\\n4\\n리스트\\n6개의 레슨\\n순서 리스트\\n01:59\\n순서 없는 리스트\\n01:04\\n길거리 토스트 레시피\\n리스트 스타일링\\n04:01\\n글로벌 내비게이션 바\\n리스트 정리\\n5\\n테이블\\n5개의 레슨\\n테이블 태그\\n02:50\\n머리글 바닥글\\n03:14\\n테이블 스타일링\\n02:48\\n빅맥의 영양 성분\\n테이블 정리\\n6\\n멀티미디어\\n7개의 레슨\\n이미지\\n03:10\\n비디오\\n03:43\\n오디오\\n01:17\\n코드잇그램\\niframe\\n03:45\\n배너 광고\\n멀티미디어 정리\\n7\\n폼\\n9개의 레슨\\n폼이란?\\n01:21\\n폼 만들기\\n05:18\\n버튼\\n02:34\\n폼 전송하기\\n로그인 폼\\n다양한 인풋\\n회원가입 폼\\n유용한 인풋 태그 속성\\n폼 정리\\n8\\n다른 코드 불러오기\\n5개의 레슨\\nlink 태그\\n04:07\\n을지로 최고의 빵집 브레드잇\\nscript 태그\\n03:13\\n좋아요 버튼\\nlink, script 정리\\n9\\n의미있는 HTML\\n6개의 레슨\\n사이트에 대한 정보\\n03:07\\n사이트 정보 퀴즈\\n시맨틱 태그란?\\n04:25\\n시맨틱 태그 퀴즈\\n시맨틱 태그를 사용하면 좋은 점\\n04:54\\n의미있는 HTML 정리                                                                                                                                                                                                                                                                                                                                                                                                                                                                                                                                                                                                                                                                                                                                                                                                                                                                                                                                                                                                                                                                                                                                                                                                                         |시작하기\\n4개의 레슨\\nHTML이란?\\n03:                                                                                                                                                                                                                                                                                            |\n",
      "|React로 데이터 다루기                     |1\\n배열 렌더링하기\\n16개의 레슨\\n리액트로 데이터를 다루는 방법\\n02:29\\n수업에서 사용할 VSCode 기능 소개\\n09:13\\nPrettier 설정하는 법 소개\\n02:28\\n이번에 우리가 만들 프로젝트는?\\n02:16\\nmock 데이터 추가하기\\n03:34\\nmap으로 배열 렌더링하기\\n02:58\\n푸드잇: 목록 보여주기\\nsort로 정렬 바꾸기\\n03:41\\n푸드잇: 칼로리가 높은 순서대로\\nfilter로 아이템 삭제하기\\n03:19\\n푸드잇: 음식 지우기\\n배열을 렌더링할 땐 key를 기억하세요\\n04:12\\nkey를 써야하는 이유\\n01:17\\n푸드잇: key Prop 적용하기\\n배열 렌더링하기\\n배열 렌더링 퀴즈\\n2\\n데이터 가져오기\\n20개의 레슨\\n실습 서버 소개\\n리액트에서 fetch 사용하기\\n03:49\\n푸드잇: 음식 목록 가져오기 (1)\\nuseEffect로 초기 데이터 가져오기\\n02:59\\n푸드잇: 음식 목록 가져오기 (2)\\n서버에서 정렬한 데이터 받아오기\\n06:26\\n푸드잇: 서버에서 정렬하기\\nuseEffect 살펴보기\\n페이지네이션이란?\\n05:08\\n데이터 더 불러오기\\n08:00\\n데이터가 있을 때만 버튼 보여주기\\n01:37\\n조건부 렌더링 꿀팁\\n비동기로 State를 변경할 때 주의할 점\\n04:12\\n푸드잇: 페이지네이션\\nuseState 뽀개기\\n네트워크 로딩 처리하기\\n04:00\\n네트워크 에러 처리하기\\n04:13\\n푸드잇: 네트워크 로딩과 에러\\n푸드잇: 검색 기능\\n데이터 가져오기 퀴즈\\n3\\n입력 폼 다루기\\n20개의 레슨\\n리액트에서 입력 폼 만들기\\n05:39\\n푸드잇: 입력 폼 (1)\\nonSubmit을 써보자\\n02:38\\n하나의 state로 폼 구현하기\\n02:46\\n푸드잇: 입력 폼 (2)\\n제어 컴포넌트와 비제어 컴포넌트\\n05:25\\n입력 폼 뽀개기\\n파일 인풋\\n07:53\\n푸드잇: 파일 인풋\\nref로 DOM 노드 가져오기\\n02:05\\n파일 인풋 초기화\\n02:23\\n푸드잇: 파일 인풋 초기화\\nref와 useRef\\n이미지 파일 미리보기\\n04:25\\n사이드 이펙트 정리하기\\n04:31\\n푸드잇: 이미지 파일 미리보기\\n사이드 이펙트와 useEffect\\n별점 컴포넌트 만들기\\n02:41\\n나만의 별점 인풋 만들기\\n06:36\\n입력 폼 다루기 퀴즈\\n4\\n데이터 보내기\\n15개의 레슨\\n글 작성하기\\n07:18\\n리스폰스 데이터 반영하기\\n03:38\\n푸드잇: 글 작성하기\\n글 수정하기 I\\n06:12\\n글 수정하기 II\\n07:52\\n푸드잇: 글 수정하기\\n글 삭제하기\\n02:29\\n푸드잇: 글 삭제하기\\n리액트 Hook\\n01:53\\n리액트 Hook의 규칙\\n03:29\\n나만의 Hook으로 코드 정리하기\\n07:15\\nuseCallback\\n07:05\\n빠짐없는 디펜던시 (exhaustive-deps)\\n리액트 Hook 정리\\nHook의 규칙 퀴즈\\n5\\n전역 데이터 다루기\\n10개의 레슨\\nContext란?\\n03:12\\nContext로 데이터 내려주기\\n03:52\\n푸드잇: LocaleContext 추가하기\\nContext 값에 State 사용하기\\n03:10\\nContext 코드 분리하기\\n06:31\\n다국어 기능 완성하기\\n04:23\\n푸드잇: 다국어 기능 만들기\\nContext 정리\\n상태 관리의 짧은 역사\\n08:36\\n마무리 디자인 적용하기|배열 렌더링하기\\n16개의 레슨\\n리액트로 데이터를 다루는 방법\\n02:                                                                                                                                                                                                                                                                |\n",
      "|React로 웹사이트 만들기                   |1\\nReact Router로 웹사이트 만들기\\n22개의 레슨\\n리액트로 웹사이트 만들기\\n02:26\\n함께 만들 프로젝트 소개\\n05:15\\n리액트 라우터 v6 소개\\n03:13\\n리액트 라우터 설치하기\\nRoutes로 페이지 나누기\\n03:26\\nLink로 이동하기\\n05:36\\n커뮤니티 페이지 추가하기\\nNavLink로 네비게이션 구현하기\\n02:08\\n하위 페이지 나누기\\n04:53\\n커뮤니티 페이지 분리하기\\nuseParams로 동적인 경로 만들기\\n03:32\\n커뮤니티 글 보여주기\\n없는 페이지 처리하기\\n03:41\\nNavigate로 리다이렉트 하기\\n02:21\\n없는 질문 처리하기\\nuseSearchParams로 쿼리 사용하기\\n08:12\\n질문 검색창 만들기\\nuseNavigate로 페이지 이동하기\\n01:54\\n리액트 라우터 정리\\n선택 레슨: react-helmet으로 페이지 제목 설정하기\\n싱글 페이지 애플리케이션(SPA) 이해하기\\n06:46\\n리액트를 렌더링하는 방식                                                                                                                                                                                                                                                                                                                                                                                                                                                                                                                                                                                                                                                                                                                                                                                                                                                                                                                                                                                                                                                                                                                                                                                                                                                                                                                                                                                                                                                                                                                                                                                                                                                                                                                         |React Router로 웹사이트 만들기\\n22개의 레슨\\n리액트로 웹사이트 만들기\\n02:                                                                                                                                                                                                                                                      |\n",
      "|CSS 레이아웃                              |1\\nCSS 레이아웃\\n1개의 레슨\\n토픽 소개\\n02:22\\n2\\nPosition\\n15개의 레슨\\nposition 속성\\n03:50\\nrelative 포지션\\n04:34\\n인기 플레이리스트\\nabsolute 포지션\\n08:06\\n호버 재생 버튼\\n코딩을 넘어, 음악의 즐거움까지 I\\nfixed 포지션\\n04:56\\n내비게이션 바 I\\nsticky 포지션\\n05:13\\n내비게이션 바 II\\nz-index\\n02:29\\n내비게이션 바 III\\nz-index가 내 맘대로 안될 때\\n미니 프로젝트: 리드잇북스\\n포지셔닝 정리\\n3\\nFlexbox\\n19개의 레슨\\nFlexbox란?\\n02:07\\n배치 방향\\n03:03\\n이달의 플레이리스트 I\\n정렬\\n05:04\\n아티스트 프로필\\n배너 광고\\n코딩을 넘어, 음악의 즐거움까지 II\\n요소가 넘칠 때\\n01:23\\n이달의 플레이리스트 II\\n간격\\n03:54\\n이달의 플레이리스트 III\\n요소 꽉 채우기\\n04:07\\n플렉스 요소의 크기\\n곡 목록\\n음악 플레이어\\n미니 프로젝트: 코드잇 항공\\nFlexbox 정리\\n인라인 안에서 Flexbox 만들기\\nFlexbox 안에서 포지셔닝하기\\n4\\nGrid\\n15개의 레슨\\nGrid란?\\n03:03\\nGrid 나누기\\n03:18\\n느낌 별 스테이션 I\\n유연한 크기와 유용한 함수들\\n04:33\\n느낌 별 스테이션 II\\n간격 넣기\\n01:04\\n크기 미리 정해두기\\n01:49\\n이달의 Top 100\\n원하는 위치에 요소 배치하기\\n04:41\\n요금제\\n피트 몬드리안 I\\n이름으로 배치하기\\n01:49\\n피트 몬드리안 II\\n미니 프로젝트: Chainit\\nGrid 정리\\n5\\n코드잇 뮤직\\n4개의 레슨\\n랜딩 페이지\\n뮤직 매거진\\n플레이리스트\\n음악 플레이어                                                                                                                                                                                                                                                                                                                                                                                                                                                                                                                                                                                                                                                                                                                                                                                                                                                                                                                                                                                                                                                                                                                                                                                                 |CSS 레이아웃\\n1개의 레슨\\n토픽 소개\\n02:                                                                                                                                                                                                                                                                                        |\n",
      "|Next.js로 웹사이트 만들기                 |1\\nNext.js 시작하기\\n4개의 레슨\\n토픽 소개\\n04:22\\n프로젝트 만들기\\n05:23\\nCSS 적용하기\\n02:31\\nNext.js 실행기 사용법\\n2\\n라우팅\\n22개의 레슨\\n파일시스템 기반 라우팅이란?\\n02:20\\n페이지 나누기\\n04:33\\n페이지 나누기 실습\\nLink 컴포넌트\\n03:00\\nLink 컴포넌트 실습\\nuseRouter: 쿼리 사용하기\\n02:16\\n쿼리 사용하기 실습\\nuseRouter: 페이지 이동하기\\n03:44\\n페이지 이동 실습\\n실습 API 소개\\nAPI 연동하기\\n10:33\\nAPI 연동 실습\\n리다이렉트\\n06:37\\n리다이렉트 실습\\n커스텀 404 페이지\\n01:04\\n커스텀 404 페이지 실습\\n커스텀 App과 Document\\n03:50\\n커스텀 App 실습\\nContext 활용하기\\n06:09\\nContext 활용하기 실습\\nAPI 라우팅\\n라우팅 정리\\n3\\n사이트 완성하기\\n10개의 레슨\\nImage 컴포넌트 소개\\n04:35\\nImage 컴포넌트 사용법\\n07:47\\nImage 컴포넌트 실습\\nHead 컴포넌트\\n03:56\\nHead 컴포넌트 실습\\n구글 폰트 적용하기\\n빌드하기와 실행하기\\n05:50\\nGit과 Github 준비하기\\n배포하기\\n사이트 완성하기 정리\\n4\\n프리렌더링\\n12개의 레슨\\n프리렌더링이란?\\n04:58\\n정적 생성 I\\n08:29\\n정적 생성 II\\n12:27\\n정적 생성 실습\\n서버사이드 렌더링\\n06:50\\n서버사이드 렌더링 실습\\n클라이언트에서 데이터 주고 받기\\n04:39\\n클라이언트에서 데이터 주고 받기 실습\\n렌더링 과정 살펴보기\\n07:19\\n정적 생성 vs SSR\\n프리 렌더링 정리\\nApp Router 소개                                                                                                                                                                                                                                                                                                                                                                                                                                                                                                                                                                                                                                                                                                                                                                                                                                                                                                                                                                                                                                                                                                                                                                                                                            |Next.js 시작하기\\n4개의 레슨\\n토픽 소개\\n04:                                                                                                                                                                                                                                                                                    |\n",
      "|Styled Components                         |1\\nStyled Components 시작하기\\n12개의 레슨\\nStyled Components란?\\n기존 방식의 문제점\\nHello Styled\\nNesting 문법\\nInput 컴포넌트: 기본 구현\\nInput 컴포넌트: 배치하기\\n다이나믹 스타일링\\nInput 컴포넌트: 속성 추가하기\\n스타일 재사용: 상속\\n스타일 재사용: css 함수\\nInput 컴포넌트: 검색 아이콘 넣기\\n로그인 페이지: 기본 구현\\n2\\nStyled Components 심화\\n9개의 레슨\\n글로벌 스타일\\n글로벌 스타일 적용하기\\n애니메이션\\nInput 컴포넌트: 로딩 스피너\\n테마\\nInput 컴포넌트: 라이트 모드와 다크 모드\\n상황별 유용한 팁\\n로그인 페이지: 테마 적용하기\\nStyled Components 파헤치기                                                                                                                                                                                                                                                                                                                                                                                                                                                                                                                                                                                                                                                                                                                                                                                                                                                                                                                                                                                                                                                                                                                                                                                                                                                                                                                                                                                                                                                                                                                                                                                                                                                                                                                                                                                                                                                                                         |Styled Components 시작하기\\n12개의 레슨\\nStyled Components란?\\n기존 방식의 문제점\\nHello Styled\\nNesting 문법\\nInput 컴포넌트: 기본 구현\\nInput 컴포넌트: 배치하기\\n다이나믹 스타일링\\nInput 컴포넌트: 속성 추가하기\\n스타일 재사용: 상속\\n스타일 재사용: css 함수\\nInput 컴포넌트: 검색 아이콘 넣기\\n로그인 페이지: 기본 구현\\n|\n",
      "|유저 기능 원리                            |1\\n인증과 인가\\n15개의 레슨\\n유저 기능이란?\\n03:03\\n인증: Authentication\\n06:20\\n쿠키 인증\\n04:08\\n쿠키 보안\\nAuthorization 헤더 인증\\n04:45\\n세션 기반 인증\\n03:33\\n토큰 기반 인증\\n04:05\\n인코딩과 Base64URL\\n기본 인증 (Basic Authentication)\\nRefresh 토큰\\nJWT (JSON Web Token)\\n05:26\\n세션 vs 토큰 기반 인증\\n인가: Authorization\\n02:48\\nAuthorization 헤더를 인증에 사용하는 이유\\n인증과 인가 퀴즈\\n2\\n위임\\n6개의 레슨\\n접근 권한 위임과 OAuth\\n03:17\\nOAuth 주체와 설정\\n03:41\\nOAuth 워크플로우\\n06:04\\nOpenID Connect\\n06:07\\n다양한 OAuth/OpenID 플로우\\n위임 퀴즈                                                                                                                                                                                                                                                                                                                                                                                                                                                                                                                                                                                                                                                                                                                                                                                                                                                                                                                                                                                                                                                                                                                                                                                                                                                                                                                                                                                                                                                                                                                                                                                                                                                                                                                                                                                                                                                                                           |인증과 인가\\n15개의 레슨\\n유저 기능이란?\\n03:                                                                                                                                                                                                                                                                                   |\n",
      "|Next.js API 만들기                        |1\\n수강 가이드\\n2개의 레슨\\nNext.js API 만들기\\n02:14\\n수강 가이드\\n2\\nAPI 라우팅\\n5개의 레슨\\nAPI 라우트 만들기\\n03:58\\n리퀘스트 다루기\\n03:57\\n리스폰스 다루기\\n02:53\\nAPI 라우트 만들기 실습\\nAPI 라우팅 정리\\n3\\nMongoDB 시작하기\\n11개의 레슨\\nMongoDB 소개\\n02:18\\nMongoDB Atlas와 Mongoose 준비하기\\nNext.js에서 환경 변수 사용하기\\n데이터베이스 연동하기\\n04:52\\n데이터베이스 연동 실습\\n모델 만들기\\n03:34\\n모델 만들기 실습\\n도큐먼트 생성, 조회하기\\n04:29\\n도큐먼트 수정, 삭제하기\\n03:45\\n데이터 다루기 실습\\nMongoose 문법 정리\\n4\\n주소 단축 서비스\\n9개의 레슨\\n프로젝트 준비하기\\n06:09\\n모델과 API 살펴보기\\n03:21\\n주소 단축 기능 구현\\n04:17\\n짧은 주소 리다이렉트하기\\n03:05\\nQRCode 새로 만들기\\n짧은 주소 목록 보여주기\\n02:32\\nQRCode 목록 보여주기\\n짧은 주소 수정, 삭제하기\\n04:18\\nQRCode 수정, 삭제하기\\n5\\n배포하기\\n2개의 레슨\\nVercel에서 환경 변수 설정하기\\nVercel과 MongoDB Atlas 연동하기                                                                                                                                                                                                                                                                                                                                                                                                                                                                                                                                                                                                                                                                                                                                                                                                                                                                                                                                                                                                                                                                                                                                                                                                                                                                                                                                                                                                                                                                                                                                               |수강 가이드\\n2개의 레슨\\nNext.js API 만들기\\n02:                                                                                                                                                                                                                                                                                |\n",
      "|React 유저 기능 구현하기                  |1\\n수강 가이드\\n2개의 레슨\\nReact 유저 기능 구현하기\\n01:44\\n수강 가이드\\n2\\nReact 유저 기능 구현하기\\n23개의 레슨\\n프로젝트 소개\\n03:10\\n프로젝트 코드 살펴보기\\n10:16\\n사용할 API 소개\\n회원가입\\n02:49\\n회원가입 구현하기\\n로그인\\n06:57\\n리퀘스트에서 쿠키 사용하기\\n쿠키가 제대로 저장되지 않을 때\\n로그인 구현하기\\n항상 Access Token 사용하기\\n03:55\\nAxios 인스턴스 개선하기\\n컨텍스트로 유저 데이터 관리하기 I\\n06:03\\n컨텍스트로 유저 데이터 관리하기 II\\n06:42\\n유저 기능 컨텍스트 구현하기\\n로그인 상태에 따라 리다이렉트하기\\n14:44\\n리다이렉트 구현하기\\nRefresh Token 활용하기\\n09:07\\n알아서 토큰 갱신하기\\n로그아웃\\n05:54\\n로그아웃 구현하기\\n구글 로그인 구현하기\\n17:59\\n워크플로 이해하기\\n07:22\\n워크플로 정리                                                                                                                                                                                                                                                                                                                                                                                                                                                                                                                                                                                                                                                                                                                                                                                                                                                                                                                                                                                                                                                                                                                                                                                                                                                                                                                                                                                                                                                                                                                                                                                                                                                                                                                                        |수강 가이드\\n2개의 레슨\\nReact 유저 기능 구현하기\\n01:                                                                                                                                                                                                                                                                          |\n",
      "|웹 퍼블리싱 프로젝트: MBTI별 좋아하는 컬러|1\\n프로젝트 소개\\n1개의 레슨\\n프로젝트 소개\\n2\\n프로젝트 실습\\n1개의 레슨\\nMBTI별 좋아하는 컬러\\n3\\n프로젝트 해설\\n5개의 레슨\\n작업 계획하기\\n공통 HTML, CSS 준비\\n홈페이지 구현\\n컬러 등록 페이지 구현\\n반응형 디자인 적용                                                                                                                                                                                                                                                                                                                                                                                                                                                                                                                                                                                                                                                                                                                                                                                                                                                                                                                                                                                                                                                                                                                                                                                                                                                                                                                                                                                                                                                                                                                                                                                                                                                                                                                                                                                                                                                                                                                                                                                                                                                                                                                                                                                                                                                 |프로젝트 소개\\n1개의 레슨\\n프로젝트 소개\\n                                                                                                                                                                                                                                                                                      |\n",
      "|React 프로젝트: MBTI별 좋아하는 컬러      |1\\n프로젝트 소개\\n1개의 레슨\\n프로젝트 소개\\n2\\n프로젝트 실습\\n1개의 레슨\\nMBTI별 좋아하는 컬러\\n3\\n프로젝트 해설\\n9개의 레슨\\n작업 계획하기\\n목 데이터 준비하기\\n페이지 나누기\\n페이지 구현\\n디자인 적용하기 I\\n디자인 적용하기 II\\nAPI 연동\\n무한 스크롤 구현\\n테스트                                                                                                                                                                                                                                                                                                                                                                                                                                                                                                                                                                                                                                                                                                                                                                                                                                                                                                                                                                                                                                                                                                                                                                                                                                                                                                                                                                                                                                                                                                                                                                                                                                                                                                                                                                                                                                                                                                                                                                                                                                                                                                                                                                                                     |프로젝트 소개\\n1개의 레슨\\n프로젝트 소개\\n                                                                                                                                                                                                                                                                                      |\n",
      "|React 프론트엔드 개발 오리엔테이션        |1\\n오리엔테이션\\n2개의 레슨\\n오리엔테이션\\n05:24\\n자주 묻는 질문\\n06:30\\n2\\n스스로 성장하기\\n4개의 레슨\\n개발 문서 읽는 법\\n03:20\\nReact 개발 문서 같이 읽어보기\\n07:07\\n에러를 대하는 자세\\n03:15\\n개발자 도구로 에러 찾아보기\\n07:05\\n3\\n학습 가이드\\n2개의 레슨\\n순차적 학습과 탐색적 학습\\n03:23\\nReact 프론트엔드 커리큘럼 소개\\n01:55                                                                                                                                                                                                                                                                                                                                                                                                                                                                                                                                                                                                                                                                                                                                                                                                                                                                                                                                                                                                                                                                                                                                                                                                                                                                                                                                                                                                                                                                                                                                                                                                                                                                                                                                                                                                                                                                                                                                                                                                                                                                                                                                 |오리엔테이션\\n2개의 레슨\\n오리엔테이션\\n05:                                                                                                                                                                                                                                                                                     |\n",
      "|자바스크립트 객체 지향 기본기             |1\\n객체와 클래스\\n9개의 레슨\\n객체 지향 프로그래밍이란?\\n02:37\\n객체 만들기 1-1: Object-Literal\\n05:16\\n객체 만들기 1-2: Factory function\\n03:37\\n객체 만들기 2: Constructor function\\n04:21\\n객체 만들기 3: Class\\n02:43\\n객체 만들기 정리\\n객체를 생성하는 방법 퀴즈\\n객체 생성해보기\\n알고 넘어가야 할 부분\\n2\\n객체 지향 프로그래밍의 4개의 기둥\\n16개의 레슨\\n추상화\\n02:59\\n추상화 직접 해보기\\n캡슐화\\n06:41\\n캡슐화 더 알아보기\\n캡슐화 직접 해보기\\n상속\\n04:55\\nsuper\\n02:18\\n상속 직접 해보기\\n다형성\\n05:13\\n부모 클래스의 메소드가 필요하다면?\\n02:50\\n다형성 적용해보기\\ninstanceof 연산자\\n02:23\\nstatic 프로퍼티와 static 메소드\\n03:33\\n4개의 기둥 정리\\n4개의 기둥 퀴즈\\n클래스는 파일 하나당 하나씩 넣어주는 게 좋아요                                                                                                                                                                                                                                                                                                                                                                                                                                                                                                                                                                                                                                                                                                                                                                                                                                                                                                                                                                                                                                                                                                                                                                                                                                                                                                                                                                                                                                                                                                                                                                                                                                                                                                                                   |객체와 클래스\\n9개의 레슨\\n객체 지향 프로그래밍이란?\\n02:                                                                                                                                                                                                                                                                       |\n",
      "|유저 기능 원리                            |1\\n인증과 인가\\n15개의 레슨\\n유저 기능이란?\\n03:03\\n인증: Authentication\\n06:20\\n쿠키 인증\\n04:08\\n쿠키 보안\\nAuthorization 헤더 인증\\n04:45\\n세션 기반 인증\\n03:33\\n토큰 기반 인증\\n04:05\\n인코딩과 Base64URL\\n기본 인증 (Basic Authentication)\\nRefresh 토큰\\nJWT (JSON Web Token)\\n05:26\\n세션 vs 토큰 기반 인증\\n인가: Authorization\\n02:48\\nAuthorization 헤더를 인증에 사용하는 이유\\n인증과 인가 퀴즈\\n2\\n위임\\n6개의 레슨\\n접근 권한 위임과 OAuth\\n03:17\\nOAuth 주체와 설정\\n03:41\\nOAuth 워크플로우\\n06:04\\nOpenID Connect\\n06:07\\n다양한 OAuth/OpenID 플로우\\n위임 퀴즈                                                                                                                                                                                                                                                                                                                                                                                                                                                                                                                                                                                                                                                                                                                                                                                                                                                                                                                                                                                                                                                                                                                                                                                                                                                                                                                                                                                                                                                                                                                                                                                                                                                                                                                                                                                                                                                                                           |인증과 인가\\n15개의 레슨\\n유저 기능이란?\\n03:                                                                                                                                                                                                                                                                                   |\n",
      "|Next.js API 만들기                        |1\\n수강 가이드\\n2개의 레슨\\nNext.js API 만들기\\n02:14\\n수강 가이드\\n2\\nAPI 라우팅\\n5개의 레슨\\nAPI 라우트 만들기\\n03:58\\n리퀘스트 다루기\\n03:57\\n리스폰스 다루기\\n02:53\\nAPI 라우트 만들기 실습\\nAPI 라우팅 정리\\n3\\nMongoDB 시작하기\\n11개의 레슨\\nMongoDB 소개\\n02:18\\nMongoDB Atlas와 Mongoose 준비하기\\nNext.js에서 환경 변수 사용하기\\n데이터베이스 연동하기\\n04:52\\n데이터베이스 연동 실습\\n모델 만들기\\n03:34\\n모델 만들기 실습\\n도큐먼트 생성, 조회하기\\n04:29\\n도큐먼트 수정, 삭제하기\\n03:45\\n데이터 다루기 실습\\nMongoose 문법 정리\\n4\\n주소 단축 서비스\\n9개의 레슨\\n프로젝트 준비하기\\n06:09\\n모델과 API 살펴보기\\n03:21\\n주소 단축 기능 구현\\n04:17\\n짧은 주소 리다이렉트하기\\n03:05\\nQRCode 새로 만들기\\n짧은 주소 목록 보여주기\\n02:32\\nQRCode 목록 보여주기\\n짧은 주소 수정, 삭제하기\\n04:18\\nQRCode 수정, 삭제하기\\n5\\n배포하기\\n2개의 레슨\\nVercel에서 환경 변수 설정하기\\nVercel과 MongoDB Atlas 연동하기                                                                                                                                                                                                                                                                                                                                                                                                                                                                                                                                                                                                                                                                                                                                                                                                                                                                                                                                                                                                                                                                                                                                                                                                                                                                                                                                                                                                                                                                                                                                               |수강 가이드\\n2개의 레슨\\nNext.js API 만들기\\n02:                                                                                                                                                                                                                                                                                |\n",
      "+------------------------------------------+----------------------------------------------------------------------------------------------------------------------------------------------------------------------------------------------------------------------------------------------------------------------------------------------------------------------------------------------------------------------------------------------------------------------------------------------------------------------------------------------------------------------------------------------------------------------------------------------------------------------------------------------------------------------------------------------------------------------------------------------------------------------------------------------------------------------------------------------------------------------------------------------------------------------------------------------------------------------------------------------------------------------------------------------------------------------------------------------------------------------------------------------------------------------------------------------------------------------------------------------------------------------------------------------------------------------------------------------------------------------------------------------------------------------------------------------------------------------------------------------------------------------------------------------------------------------------------------------------------------------------------------------------------------------------------------------------------------------------------------------------------------------------------------------------------------------------------------------------------------------------------------------------------------------------------------------------------------------------------------------------------------------------------------------------------------------------------------------------------------------------------------------------------------------------------------------------------------------------------------------------------------------------------------------------------------------------------------------------------------------------------------------------------------------------------------------------------------------------+--------------------------------------------------------------------------------------------------------------------------------------------------------------------------------------------------------------------------------------------------------------------------------------------------------------------------------+\n",
      "only showing top 20 rows\n",
      "\n"
     ]
    }
   ],
   "source": [
    "from pyspark.sql import SparkSession\n",
    "from pyspark.sql.functions import explode, col, split\n",
    "\n",
    "# Spark 세션 초기화\n",
    "spark = SparkSession.builder \\\n",
    "    .appName(\"JSON to DataFrame\") \\\n",
    "    .getOrCreate()\n",
    "\n",
    "# JSON 파일 읽기\n",
    "df = spark.read.option(\"multiline\", \"true\").json(\"codeit_lectures.json\")\n",
    "\n",
    "# SUBSECTION 테이블에 삽입할 정보를 담은 df\n",
    "df_subsection = df.withColumn(\"sub_categs\", explode(col(\"sub_categs\"))) \\\n",
    "                .withColumn(\"lectures\", explode(col(\"sub_categs.lectures\"))) \\\n",
    "                .select(\n",
    "                    col(\"lectures.title\").alias(\"course_title\"),\n",
    "                    col(\"lectures.curriculum\").alias(\"section_str\")\n",
    "                )\n",
    "\n",
    "# \"숫자\\n\"로 시작하는 패턴을 기준으로 문자열 분할\n",
    "split_df = df_subsection.withColumn(\"split_sections\", split(\"section_str\", \"\\d+\\n\"))\n",
    "\n",
    "# 첫 번째 요소는 빈 문자열이므로 제거\n",
    "split_df = split_df.withColumn(\"split_sections\", split_df[\"split_sections\"].getItem(1))\n",
    "\n",
    "# 최종 데이터 확인\n",
    "split_df.show(truncate=False)\n",
    "\n",
    "# Spark 세션 종료"
   ]
  },
  {
   "cell_type": "code",
   "execution_count": 7,
   "id": "219fce63-c386-4eb9-8f2a-45fa58791b93",
   "metadata": {},
   "outputs": [],
   "source": [
    "# Spark 세션 초기화\n",
    "spark = SparkSession.builder \\\n",
    "    .appName(\"JSON to DataFrame\") \\\n",
    "    .getOrCreate()\n",
    "\n",
    "# 데이터베이스 정보 설정\n",
    "db_properties = {\n",
    "    \"driver\": \"org.postgresql.Driver\",\n",
    "    \"user\": \"khudade\",\n",
    "    \"password\": \"khudade\"\n",
    "}\n",
    "\n",
    "# 데이터베이스 URL 설정\n",
    "db_url = \"jdbc:postgresql://54.180.100.57:5432/lecture_db\""
   ]
  },
  {
   "cell_type": "code",
   "execution_count": 8,
   "id": "d7f52182-4514-4895-9986-5962751ca1e1",
   "metadata": {
    "scrolled": true
   },
   "outputs": [
    {
     "name": "stdout",
     "output_type": "stream",
     "text": [
      "+-----------+--------------------+\n",
      "|category_id|    subcategory_name|\n",
      "+-----------+--------------------+\n",
      "|          4|              Python|\n",
      "|          4|          JavaScript|\n",
      "|          5|        데이터베이스|\n",
      "|          5|         업무 자동화|\n",
      "|          5|           개발 도구|\n",
      "|          5|             IT 교양|\n",
      "|          5|              디자인|\n",
      "|          1|          프론트엔드|\n",
      "|          1|              백엔드|\n",
      "|          1|              풀스택|\n",
      "|          2|         데이터 분석|\n",
      "|          2|           인공 지능|\n",
      "|          3|     프로그래밍 기초|\n",
      "|          3|   알고리즘·자료구조|\n",
      "|          3|객체 지향 프로그래밍|\n",
      "+-----------+--------------------+\n",
      "\n"
     ]
    }
   ],
   "source": [
    "# 데이터베이스에서 CATEGORY 정보 읽어와서 저장\n",
    "df_category = spark.read.jdbc(url=db_url, table=\"CATEGORY\", properties=db_properties)\n",
    "\n",
    "# SUBCATEGORY 데이터프레임에 category_id 정보 매핑\n",
    "df_subcategory = df_subcategory.join(df_category, df_subcategory.category_name == df_category.category_name, \"left_outer\") \\\n",
    "    .select(df_subcategory[\"*\"], df_category.category_id.alias(\"category_id\"))\n",
    "\n",
    "df_subcategory = df_subcategory.select(\"category_id\", \"subcategory_name\")\n",
    "\n",
    "df_subcategory.show()"
   ]
  },
  {
   "cell_type": "code",
   "execution_count": 20,
   "id": "5f73d29b-7499-412c-a1e5-d1ddd8901677",
   "metadata": {
    "collapsed": true,
    "jupyter": {
     "outputs_hidden": true
    }
   },
   "outputs": [
    {
     "name": "stderr",
     "output_type": "stream",
     "text": [
      "24/05/23 16:55:03 ERROR Executor: Exception in task 0.0 in stage 47.0 (TID 33)\n",
      "java.sql.BatchUpdateException: Batch entry 0 INSERT INTO CATEGORY (\"category_id\",\"category_name\",\"platform_id\") VALUES (1,'웹 개발',3) was aborted: ERROR: duplicate key value violates unique constraint \"category_pkey\"\n",
      "  Detail: Key (category_id)=(1) already exists.  Call getNextException to see other errors in the batch.\n",
      "\tat org.postgresql.jdbc.BatchResultHandler.handleError(BatchResultHandler.java:169)\n",
      "\tat org.postgresql.core.v3.QueryExecutorImpl.processResults(QueryExecutorImpl.java:2286)\n",
      "\tat org.postgresql.core.v3.QueryExecutorImpl.execute(QueryExecutorImpl.java:521)\n",
      "\tat org.postgresql.jdbc.PgStatement.internalExecuteBatch(PgStatement.java:870)\n",
      "\tat org.postgresql.jdbc.PgStatement.executeBatch(PgStatement.java:893)\n",
      "\tat org.postgresql.jdbc.PgPreparedStatement.executeBatch(PgPreparedStatement.java:1644)\n",
      "\tat org.apache.spark.sql.execution.datasources.jdbc.JdbcUtils$.savePartition(JdbcUtils.scala:740)\n",
      "\tat org.apache.spark.sql.execution.datasources.jdbc.JdbcUtils$.$anonfun$saveTable$1(JdbcUtils.scala:891)\n",
      "\tat org.apache.spark.sql.execution.datasources.jdbc.JdbcUtils$.$anonfun$saveTable$1$adapted(JdbcUtils.scala:890)\n",
      "\tat org.apache.spark.rdd.RDD.$anonfun$foreachPartition$2(RDD.scala:1009)\n",
      "\tat org.apache.spark.rdd.RDD.$anonfun$foreachPartition$2$adapted(RDD.scala:1009)\n",
      "\tat org.apache.spark.SparkContext.$anonfun$runJob$5(SparkContext.scala:2303)\n",
      "\tat org.apache.spark.scheduler.ResultTask.runTask(ResultTask.scala:92)\n",
      "\tat org.apache.spark.TaskContext.runTaskWithListeners(TaskContext.scala:161)\n",
      "\tat org.apache.spark.scheduler.Task.run(Task.scala:139)\n",
      "\tat org.apache.spark.executor.Executor$TaskRunner.$anonfun$run$3(Executor.scala:554)\n",
      "\tat org.apache.spark.util.Utils$.tryWithSafeFinally(Utils.scala:1529)\n",
      "\tat org.apache.spark.executor.Executor$TaskRunner.run(Executor.scala:557)\n",
      "\tat java.util.concurrent.ThreadPoolExecutor.runWorker(ThreadPoolExecutor.java:1149)\n",
      "\tat java.util.concurrent.ThreadPoolExecutor$Worker.run(ThreadPoolExecutor.java:624)\n",
      "\tat java.lang.Thread.run(Thread.java:750)\n",
      "Caused by: org.postgresql.util.PSQLException: ERROR: duplicate key value violates unique constraint \"category_pkey\"\n",
      "  Detail: Key (category_id)=(1) already exists.\n",
      "\tat org.postgresql.core.v3.QueryExecutorImpl.receiveErrorResponse(QueryExecutorImpl.java:2553)\n",
      "\tat org.postgresql.core.v3.QueryExecutorImpl.processResults(QueryExecutorImpl.java:2285)\n",
      "\t... 19 more\n",
      "24/05/23 16:55:03 WARN TaskSetManager: Lost task 0.0 in stage 47.0 (TID 33) (fb2c885a1f24 executor driver): java.sql.BatchUpdateException: Batch entry 0 INSERT INTO CATEGORY (\"category_id\",\"category_name\",\"platform_id\") VALUES (1,'웹 개발',3) was aborted: ERROR: duplicate key value violates unique constraint \"category_pkey\"\n",
      "  Detail: Key (category_id)=(1) already exists.  Call getNextException to see other errors in the batch.\n",
      "\tat org.postgresql.jdbc.BatchResultHandler.handleError(BatchResultHandler.java:169)\n",
      "\tat org.postgresql.core.v3.QueryExecutorImpl.processResults(QueryExecutorImpl.java:2286)\n",
      "\tat org.postgresql.core.v3.QueryExecutorImpl.execute(QueryExecutorImpl.java:521)\n",
      "\tat org.postgresql.jdbc.PgStatement.internalExecuteBatch(PgStatement.java:870)\n",
      "\tat org.postgresql.jdbc.PgStatement.executeBatch(PgStatement.java:893)\n",
      "\tat org.postgresql.jdbc.PgPreparedStatement.executeBatch(PgPreparedStatement.java:1644)\n",
      "\tat org.apache.spark.sql.execution.datasources.jdbc.JdbcUtils$.savePartition(JdbcUtils.scala:740)\n",
      "\tat org.apache.spark.sql.execution.datasources.jdbc.JdbcUtils$.$anonfun$saveTable$1(JdbcUtils.scala:891)\n",
      "\tat org.apache.spark.sql.execution.datasources.jdbc.JdbcUtils$.$anonfun$saveTable$1$adapted(JdbcUtils.scala:890)\n",
      "\tat org.apache.spark.rdd.RDD.$anonfun$foreachPartition$2(RDD.scala:1009)\n",
      "\tat org.apache.spark.rdd.RDD.$anonfun$foreachPartition$2$adapted(RDD.scala:1009)\n",
      "\tat org.apache.spark.SparkContext.$anonfun$runJob$5(SparkContext.scala:2303)\n",
      "\tat org.apache.spark.scheduler.ResultTask.runTask(ResultTask.scala:92)\n",
      "\tat org.apache.spark.TaskContext.runTaskWithListeners(TaskContext.scala:161)\n",
      "\tat org.apache.spark.scheduler.Task.run(Task.scala:139)\n",
      "\tat org.apache.spark.executor.Executor$TaskRunner.$anonfun$run$3(Executor.scala:554)\n",
      "\tat org.apache.spark.util.Utils$.tryWithSafeFinally(Utils.scala:1529)\n",
      "\tat org.apache.spark.executor.Executor$TaskRunner.run(Executor.scala:557)\n",
      "\tat java.util.concurrent.ThreadPoolExecutor.runWorker(ThreadPoolExecutor.java:1149)\n",
      "\tat java.util.concurrent.ThreadPoolExecutor$Worker.run(ThreadPoolExecutor.java:624)\n",
      "\tat java.lang.Thread.run(Thread.java:750)\n",
      "Caused by: org.postgresql.util.PSQLException: ERROR: duplicate key value violates unique constraint \"category_pkey\"\n",
      "  Detail: Key (category_id)=(1) already exists.\n",
      "\tat org.postgresql.core.v3.QueryExecutorImpl.receiveErrorResponse(QueryExecutorImpl.java:2553)\n",
      "\tat org.postgresql.core.v3.QueryExecutorImpl.processResults(QueryExecutorImpl.java:2285)\n",
      "\t... 19 more\n",
      "\n",
      "24/05/23 16:55:03 ERROR TaskSetManager: Task 0 in stage 47.0 failed 1 times; aborting job\n"
     ]
    },
    {
     "ename": "Py4JJavaError",
     "evalue": "An error occurred while calling o188.jdbc.\n: org.apache.spark.SparkException: Job aborted due to stage failure: Task 0 in stage 47.0 failed 1 times, most recent failure: Lost task 0.0 in stage 47.0 (TID 33) (fb2c885a1f24 executor driver): java.sql.BatchUpdateException: Batch entry 0 INSERT INTO CATEGORY (\"category_id\",\"category_name\",\"platform_id\") VALUES (1,'웹 개발',3) was aborted: ERROR: duplicate key value violates unique constraint \"category_pkey\"\n  Detail: Key (category_id)=(1) already exists.  Call getNextException to see other errors in the batch.\n\tat org.postgresql.jdbc.BatchResultHandler.handleError(BatchResultHandler.java:169)\n\tat org.postgresql.core.v3.QueryExecutorImpl.processResults(QueryExecutorImpl.java:2286)\n\tat org.postgresql.core.v3.QueryExecutorImpl.execute(QueryExecutorImpl.java:521)\n\tat org.postgresql.jdbc.PgStatement.internalExecuteBatch(PgStatement.java:870)\n\tat org.postgresql.jdbc.PgStatement.executeBatch(PgStatement.java:893)\n\tat org.postgresql.jdbc.PgPreparedStatement.executeBatch(PgPreparedStatement.java:1644)\n\tat org.apache.spark.sql.execution.datasources.jdbc.JdbcUtils$.savePartition(JdbcUtils.scala:740)\n\tat org.apache.spark.sql.execution.datasources.jdbc.JdbcUtils$.$anonfun$saveTable$1(JdbcUtils.scala:891)\n\tat org.apache.spark.sql.execution.datasources.jdbc.JdbcUtils$.$anonfun$saveTable$1$adapted(JdbcUtils.scala:890)\n\tat org.apache.spark.rdd.RDD.$anonfun$foreachPartition$2(RDD.scala:1009)\n\tat org.apache.spark.rdd.RDD.$anonfun$foreachPartition$2$adapted(RDD.scala:1009)\n\tat org.apache.spark.SparkContext.$anonfun$runJob$5(SparkContext.scala:2303)\n\tat org.apache.spark.scheduler.ResultTask.runTask(ResultTask.scala:92)\n\tat org.apache.spark.TaskContext.runTaskWithListeners(TaskContext.scala:161)\n\tat org.apache.spark.scheduler.Task.run(Task.scala:139)\n\tat org.apache.spark.executor.Executor$TaskRunner.$anonfun$run$3(Executor.scala:554)\n\tat org.apache.spark.util.Utils$.tryWithSafeFinally(Utils.scala:1529)\n\tat org.apache.spark.executor.Executor$TaskRunner.run(Executor.scala:557)\n\tat java.util.concurrent.ThreadPoolExecutor.runWorker(ThreadPoolExecutor.java:1149)\n\tat java.util.concurrent.ThreadPoolExecutor$Worker.run(ThreadPoolExecutor.java:624)\n\tat java.lang.Thread.run(Thread.java:750)\nCaused by: org.postgresql.util.PSQLException: ERROR: duplicate key value violates unique constraint \"category_pkey\"\n  Detail: Key (category_id)=(1) already exists.\n\tat org.postgresql.core.v3.QueryExecutorImpl.receiveErrorResponse(QueryExecutorImpl.java:2553)\n\tat org.postgresql.core.v3.QueryExecutorImpl.processResults(QueryExecutorImpl.java:2285)\n\t... 19 more\n\nDriver stacktrace:\n\tat org.apache.spark.scheduler.DAGScheduler.failJobAndIndependentStages(DAGScheduler.scala:2785)\n\tat org.apache.spark.scheduler.DAGScheduler.$anonfun$abortStage$2(DAGScheduler.scala:2721)\n\tat org.apache.spark.scheduler.DAGScheduler.$anonfun$abortStage$2$adapted(DAGScheduler.scala:2720)\n\tat scala.collection.mutable.ResizableArray.foreach(ResizableArray.scala:62)\n\tat scala.collection.mutable.ResizableArray.foreach$(ResizableArray.scala:55)\n\tat scala.collection.mutable.ArrayBuffer.foreach(ArrayBuffer.scala:49)\n\tat org.apache.spark.scheduler.DAGScheduler.abortStage(DAGScheduler.scala:2720)\n\tat org.apache.spark.scheduler.DAGScheduler.$anonfun$handleTaskSetFailed$1(DAGScheduler.scala:1206)\n\tat org.apache.spark.scheduler.DAGScheduler.$anonfun$handleTaskSetFailed$1$adapted(DAGScheduler.scala:1206)\n\tat scala.Option.foreach(Option.scala:407)\n\tat org.apache.spark.scheduler.DAGScheduler.handleTaskSetFailed(DAGScheduler.scala:1206)\n\tat org.apache.spark.scheduler.DAGSchedulerEventProcessLoop.doOnReceive(DAGScheduler.scala:2984)\n\tat org.apache.spark.scheduler.DAGSchedulerEventProcessLoop.onReceive(DAGScheduler.scala:2923)\n\tat org.apache.spark.scheduler.DAGSchedulerEventProcessLoop.onReceive(DAGScheduler.scala:2912)\n\tat org.apache.spark.util.EventLoop$$anon$1.run(EventLoop.scala:49)\n\tat org.apache.spark.scheduler.DAGScheduler.runJob(DAGScheduler.scala:971)\n\tat org.apache.spark.SparkContext.runJob(SparkContext.scala:2263)\n\tat org.apache.spark.SparkContext.runJob(SparkContext.scala:2284)\n\tat org.apache.spark.SparkContext.runJob(SparkContext.scala:2303)\n\tat org.apache.spark.SparkContext.runJob(SparkContext.scala:2328)\n\tat org.apache.spark.rdd.RDD.$anonfun$foreachPartition$1(RDD.scala:1009)\n\tat org.apache.spark.rdd.RDDOperationScope$.withScope(RDDOperationScope.scala:151)\n\tat org.apache.spark.rdd.RDDOperationScope$.withScope(RDDOperationScope.scala:112)\n\tat org.apache.spark.rdd.RDD.withScope(RDD.scala:405)\n\tat org.apache.spark.rdd.RDD.foreachPartition(RDD.scala:1007)\n\tat org.apache.spark.sql.execution.datasources.jdbc.JdbcUtils$.saveTable(JdbcUtils.scala:890)\n\tat org.apache.spark.sql.execution.datasources.jdbc.JdbcRelationProvider.createRelation(JdbcRelationProvider.scala:70)\n\tat org.apache.spark.sql.execution.datasources.SaveIntoDataSourceCommand.run(SaveIntoDataSourceCommand.scala:47)\n\tat org.apache.spark.sql.execution.command.ExecutedCommandExec.sideEffectResult$lzycompute(commands.scala:75)\n\tat org.apache.spark.sql.execution.command.ExecutedCommandExec.sideEffectResult(commands.scala:73)\n\tat org.apache.spark.sql.execution.command.ExecutedCommandExec.executeCollect(commands.scala:84)\n\tat org.apache.spark.sql.execution.QueryExecution$$anonfun$eagerlyExecuteCommands$1.$anonfun$applyOrElse$1(QueryExecution.scala:98)\n\tat org.apache.spark.sql.execution.SQLExecution$.$anonfun$withNewExecutionId$6(SQLExecution.scala:118)\n\tat org.apache.spark.sql.execution.SQLExecution$.withSQLConfPropagated(SQLExecution.scala:195)\n\tat org.apache.spark.sql.execution.SQLExecution$.$anonfun$withNewExecutionId$1(SQLExecution.scala:103)\n\tat org.apache.spark.sql.SparkSession.withActive(SparkSession.scala:827)\n\tat org.apache.spark.sql.execution.SQLExecution$.withNewExecutionId(SQLExecution.scala:65)\n\tat org.apache.spark.sql.execution.QueryExecution$$anonfun$eagerlyExecuteCommands$1.applyOrElse(QueryExecution.scala:98)\n\tat org.apache.spark.sql.execution.QueryExecution$$anonfun$eagerlyExecuteCommands$1.applyOrElse(QueryExecution.scala:94)\n\tat org.apache.spark.sql.catalyst.trees.TreeNode.$anonfun$transformDownWithPruning$1(TreeNode.scala:512)\n\tat org.apache.spark.sql.catalyst.trees.CurrentOrigin$.withOrigin(TreeNode.scala:104)\n\tat org.apache.spark.sql.catalyst.trees.TreeNode.transformDownWithPruning(TreeNode.scala:512)\n\tat org.apache.spark.sql.catalyst.plans.logical.LogicalPlan.org$apache$spark$sql$catalyst$plans$logical$AnalysisHelper$$super$transformDownWithPruning(LogicalPlan.scala:31)\n\tat org.apache.spark.sql.catalyst.plans.logical.AnalysisHelper.transformDownWithPruning(AnalysisHelper.scala:267)\n\tat org.apache.spark.sql.catalyst.plans.logical.AnalysisHelper.transformDownWithPruning$(AnalysisHelper.scala:263)\n\tat org.apache.spark.sql.catalyst.plans.logical.LogicalPlan.transformDownWithPruning(LogicalPlan.scala:31)\n\tat org.apache.spark.sql.catalyst.plans.logical.LogicalPlan.transformDownWithPruning(LogicalPlan.scala:31)\n\tat org.apache.spark.sql.catalyst.trees.TreeNode.transformDown(TreeNode.scala:488)\n\tat org.apache.spark.sql.execution.QueryExecution.eagerlyExecuteCommands(QueryExecution.scala:94)\n\tat org.apache.spark.sql.execution.QueryExecution.commandExecuted$lzycompute(QueryExecution.scala:81)\n\tat org.apache.spark.sql.execution.QueryExecution.commandExecuted(QueryExecution.scala:79)\n\tat org.apache.spark.sql.execution.QueryExecution.assertCommandExecuted(QueryExecution.scala:133)\n\tat org.apache.spark.sql.DataFrameWriter.runCommand(DataFrameWriter.scala:856)\n\tat org.apache.spark.sql.DataFrameWriter.saveToV1Source(DataFrameWriter.scala:387)\n\tat org.apache.spark.sql.DataFrameWriter.saveInternal(DataFrameWriter.scala:360)\n\tat org.apache.spark.sql.DataFrameWriter.save(DataFrameWriter.scala:247)\n\tat org.apache.spark.sql.DataFrameWriter.jdbc(DataFrameWriter.scala:753)\n\tat sun.reflect.NativeMethodAccessorImpl.invoke0(Native Method)\n\tat sun.reflect.NativeMethodAccessorImpl.invoke(NativeMethodAccessorImpl.java:62)\n\tat sun.reflect.DelegatingMethodAccessorImpl.invoke(DelegatingMethodAccessorImpl.java:43)\n\tat java.lang.reflect.Method.invoke(Method.java:498)\n\tat py4j.reflection.MethodInvoker.invoke(MethodInvoker.java:244)\n\tat py4j.reflection.ReflectionEngine.invoke(ReflectionEngine.java:374)\n\tat py4j.Gateway.invoke(Gateway.java:282)\n\tat py4j.commands.AbstractCommand.invokeMethod(AbstractCommand.java:132)\n\tat py4j.commands.CallCommand.execute(CallCommand.java:79)\n\tat py4j.ClientServerConnection.waitForCommands(ClientServerConnection.java:182)\n\tat py4j.ClientServerConnection.run(ClientServerConnection.java:106)\n\tat java.lang.Thread.run(Thread.java:750)\nCaused by: java.sql.BatchUpdateException: Batch entry 0 INSERT INTO CATEGORY (\"category_id\",\"category_name\",\"platform_id\") VALUES (1,'웹 개발',3) was aborted: ERROR: duplicate key value violates unique constraint \"category_pkey\"\n  Detail: Key (category_id)=(1) already exists.  Call getNextException to see other errors in the batch.\n\tat org.postgresql.jdbc.BatchResultHandler.handleError(BatchResultHandler.java:169)\n\tat org.postgresql.core.v3.QueryExecutorImpl.processResults(QueryExecutorImpl.java:2286)\n\tat org.postgresql.core.v3.QueryExecutorImpl.execute(QueryExecutorImpl.java:521)\n\tat org.postgresql.jdbc.PgStatement.internalExecuteBatch(PgStatement.java:870)\n\tat org.postgresql.jdbc.PgStatement.executeBatch(PgStatement.java:893)\n\tat org.postgresql.jdbc.PgPreparedStatement.executeBatch(PgPreparedStatement.java:1644)\n\tat org.apache.spark.sql.execution.datasources.jdbc.JdbcUtils$.savePartition(JdbcUtils.scala:740)\n\tat org.apache.spark.sql.execution.datasources.jdbc.JdbcUtils$.$anonfun$saveTable$1(JdbcUtils.scala:891)\n\tat org.apache.spark.sql.execution.datasources.jdbc.JdbcUtils$.$anonfun$saveTable$1$adapted(JdbcUtils.scala:890)\n\tat org.apache.spark.rdd.RDD.$anonfun$foreachPartition$2(RDD.scala:1009)\n\tat org.apache.spark.rdd.RDD.$anonfun$foreachPartition$2$adapted(RDD.scala:1009)\n\tat org.apache.spark.SparkContext.$anonfun$runJob$5(SparkContext.scala:2303)\n\tat org.apache.spark.scheduler.ResultTask.runTask(ResultTask.scala:92)\n\tat org.apache.spark.TaskContext.runTaskWithListeners(TaskContext.scala:161)\n\tat org.apache.spark.scheduler.Task.run(Task.scala:139)\n\tat org.apache.spark.executor.Executor$TaskRunner.$anonfun$run$3(Executor.scala:554)\n\tat org.apache.spark.util.Utils$.tryWithSafeFinally(Utils.scala:1529)\n\tat org.apache.spark.executor.Executor$TaskRunner.run(Executor.scala:557)\n\tat java.util.concurrent.ThreadPoolExecutor.runWorker(ThreadPoolExecutor.java:1149)\n\tat java.util.concurrent.ThreadPoolExecutor$Worker.run(ThreadPoolExecutor.java:624)\n\t... 1 more\nCaused by: org.postgresql.util.PSQLException: ERROR: duplicate key value violates unique constraint \"category_pkey\"\n  Detail: Key (category_id)=(1) already exists.\n\tat org.postgresql.core.v3.QueryExecutorImpl.receiveErrorResponse(QueryExecutorImpl.java:2553)\n\tat org.postgresql.core.v3.QueryExecutorImpl.processResults(QueryExecutorImpl.java:2285)\n\t... 19 more\n",
     "output_type": "error",
     "traceback": [
      "\u001b[0;31m---------------------------------------------------------------------------\u001b[0m",
      "\u001b[0;31mPy4JJavaError\u001b[0m                             Traceback (most recent call last)",
      "Cell \u001b[0;32mIn[20], line 2\u001b[0m\n\u001b[1;32m      1\u001b[0m \u001b[38;5;66;03m# 데이터베이스에 CATEGORY 정보 삽입\u001b[39;00m\n\u001b[0;32m----> 2\u001b[0m \u001b[43mdf_category\u001b[49m\u001b[38;5;241;43m.\u001b[39;49m\u001b[43mwrite\u001b[49m\u001b[38;5;241;43m.\u001b[39;49m\u001b[43mjdbc\u001b[49m\u001b[43m(\u001b[49m\u001b[43murl\u001b[49m\u001b[38;5;241;43m=\u001b[39;49m\u001b[43mdb_url\u001b[49m\u001b[43m,\u001b[49m\u001b[43m \u001b[49m\u001b[43mtable\u001b[49m\u001b[38;5;241;43m=\u001b[39;49m\u001b[38;5;124;43m\"\u001b[39;49m\u001b[38;5;124;43mCATEGORY\u001b[39;49m\u001b[38;5;124;43m\"\u001b[39;49m\u001b[43m,\u001b[49m\u001b[43m \u001b[49m\u001b[43mmode\u001b[49m\u001b[38;5;241;43m=\u001b[39;49m\u001b[38;5;124;43m\"\u001b[39;49m\u001b[38;5;124;43mappend\u001b[39;49m\u001b[38;5;124;43m\"\u001b[39;49m\u001b[43m,\u001b[49m\u001b[43m \u001b[49m\u001b[43mproperties\u001b[49m\u001b[38;5;241;43m=\u001b[39;49m\u001b[43mdb_properties\u001b[49m\u001b[43m)\u001b[49m\n\u001b[1;32m      4\u001b[0m \u001b[38;5;66;03m# 데이터베이스에 SUBCATEGORY 정보 삽입\u001b[39;00m\n\u001b[1;32m      5\u001b[0m df_subcategory\u001b[38;5;241m.\u001b[39mwrite\u001b[38;5;241m.\u001b[39mjdbc(url\u001b[38;5;241m=\u001b[39mdb_url, table\u001b[38;5;241m=\u001b[39m\u001b[38;5;124m\"\u001b[39m\u001b[38;5;124mSUBCATEGORY\u001b[39m\u001b[38;5;124m\"\u001b[39m, mode\u001b[38;5;241m=\u001b[39m\u001b[38;5;124m\"\u001b[39m\u001b[38;5;124mappend\u001b[39m\u001b[38;5;124m\"\u001b[39m, properties\u001b[38;5;241m=\u001b[39mdb_properties)\n",
      "File \u001b[0;32m/usr/local/lib/python3.10/dist-packages/pyspark/sql/readwriter.py:1919\u001b[0m, in \u001b[0;36mDataFrameWriter.jdbc\u001b[0;34m(self, url, table, mode, properties)\u001b[0m\n\u001b[1;32m   1917\u001b[0m \u001b[38;5;28;01mfor\u001b[39;00m k \u001b[38;5;129;01min\u001b[39;00m properties:\n\u001b[1;32m   1918\u001b[0m     jprop\u001b[38;5;241m.\u001b[39msetProperty(k, properties[k])\n\u001b[0;32m-> 1919\u001b[0m \u001b[38;5;28;43mself\u001b[39;49m\u001b[38;5;241;43m.\u001b[39;49m\u001b[43mmode\u001b[49m\u001b[43m(\u001b[49m\u001b[43mmode\u001b[49m\u001b[43m)\u001b[49m\u001b[38;5;241;43m.\u001b[39;49m\u001b[43m_jwrite\u001b[49m\u001b[38;5;241;43m.\u001b[39;49m\u001b[43mjdbc\u001b[49m\u001b[43m(\u001b[49m\u001b[43murl\u001b[49m\u001b[43m,\u001b[49m\u001b[43m \u001b[49m\u001b[43mtable\u001b[49m\u001b[43m,\u001b[49m\u001b[43m \u001b[49m\u001b[43mjprop\u001b[49m\u001b[43m)\u001b[49m\n",
      "File \u001b[0;32m/usr/local/lib/python3.10/dist-packages/py4j/java_gateway.py:1322\u001b[0m, in \u001b[0;36mJavaMember.__call__\u001b[0;34m(self, *args)\u001b[0m\n\u001b[1;32m   1316\u001b[0m command \u001b[38;5;241m=\u001b[39m proto\u001b[38;5;241m.\u001b[39mCALL_COMMAND_NAME \u001b[38;5;241m+\u001b[39m\\\n\u001b[1;32m   1317\u001b[0m     \u001b[38;5;28mself\u001b[39m\u001b[38;5;241m.\u001b[39mcommand_header \u001b[38;5;241m+\u001b[39m\\\n\u001b[1;32m   1318\u001b[0m     args_command \u001b[38;5;241m+\u001b[39m\\\n\u001b[1;32m   1319\u001b[0m     proto\u001b[38;5;241m.\u001b[39mEND_COMMAND_PART\n\u001b[1;32m   1321\u001b[0m answer \u001b[38;5;241m=\u001b[39m \u001b[38;5;28mself\u001b[39m\u001b[38;5;241m.\u001b[39mgateway_client\u001b[38;5;241m.\u001b[39msend_command(command)\n\u001b[0;32m-> 1322\u001b[0m return_value \u001b[38;5;241m=\u001b[39m \u001b[43mget_return_value\u001b[49m\u001b[43m(\u001b[49m\n\u001b[1;32m   1323\u001b[0m \u001b[43m    \u001b[49m\u001b[43manswer\u001b[49m\u001b[43m,\u001b[49m\u001b[43m \u001b[49m\u001b[38;5;28;43mself\u001b[39;49m\u001b[38;5;241;43m.\u001b[39;49m\u001b[43mgateway_client\u001b[49m\u001b[43m,\u001b[49m\u001b[43m \u001b[49m\u001b[38;5;28;43mself\u001b[39;49m\u001b[38;5;241;43m.\u001b[39;49m\u001b[43mtarget_id\u001b[49m\u001b[43m,\u001b[49m\u001b[43m \u001b[49m\u001b[38;5;28;43mself\u001b[39;49m\u001b[38;5;241;43m.\u001b[39;49m\u001b[43mname\u001b[49m\u001b[43m)\u001b[49m\n\u001b[1;32m   1325\u001b[0m \u001b[38;5;28;01mfor\u001b[39;00m temp_arg \u001b[38;5;129;01min\u001b[39;00m temp_args:\n\u001b[1;32m   1326\u001b[0m     \u001b[38;5;28;01mif\u001b[39;00m \u001b[38;5;28mhasattr\u001b[39m(temp_arg, \u001b[38;5;124m\"\u001b[39m\u001b[38;5;124m_detach\u001b[39m\u001b[38;5;124m\"\u001b[39m):\n",
      "File \u001b[0;32m/usr/local/lib/python3.10/dist-packages/pyspark/errors/exceptions/captured.py:169\u001b[0m, in \u001b[0;36mcapture_sql_exception.<locals>.deco\u001b[0;34m(*a, **kw)\u001b[0m\n\u001b[1;32m    167\u001b[0m \u001b[38;5;28;01mdef\u001b[39;00m \u001b[38;5;21mdeco\u001b[39m(\u001b[38;5;241m*\u001b[39ma: Any, \u001b[38;5;241m*\u001b[39m\u001b[38;5;241m*\u001b[39mkw: Any) \u001b[38;5;241m-\u001b[39m\u001b[38;5;241m>\u001b[39m Any:\n\u001b[1;32m    168\u001b[0m     \u001b[38;5;28;01mtry\u001b[39;00m:\n\u001b[0;32m--> 169\u001b[0m         \u001b[38;5;28;01mreturn\u001b[39;00m \u001b[43mf\u001b[49m\u001b[43m(\u001b[49m\u001b[38;5;241;43m*\u001b[39;49m\u001b[43ma\u001b[49m\u001b[43m,\u001b[49m\u001b[43m \u001b[49m\u001b[38;5;241;43m*\u001b[39;49m\u001b[38;5;241;43m*\u001b[39;49m\u001b[43mkw\u001b[49m\u001b[43m)\u001b[49m\n\u001b[1;32m    170\u001b[0m     \u001b[38;5;28;01mexcept\u001b[39;00m Py4JJavaError \u001b[38;5;28;01mas\u001b[39;00m e:\n\u001b[1;32m    171\u001b[0m         converted \u001b[38;5;241m=\u001b[39m convert_exception(e\u001b[38;5;241m.\u001b[39mjava_exception)\n",
      "File \u001b[0;32m/usr/local/lib/python3.10/dist-packages/py4j/protocol.py:326\u001b[0m, in \u001b[0;36mget_return_value\u001b[0;34m(answer, gateway_client, target_id, name)\u001b[0m\n\u001b[1;32m    324\u001b[0m value \u001b[38;5;241m=\u001b[39m OUTPUT_CONVERTER[\u001b[38;5;28mtype\u001b[39m](answer[\u001b[38;5;241m2\u001b[39m:], gateway_client)\n\u001b[1;32m    325\u001b[0m \u001b[38;5;28;01mif\u001b[39;00m answer[\u001b[38;5;241m1\u001b[39m] \u001b[38;5;241m==\u001b[39m REFERENCE_TYPE:\n\u001b[0;32m--> 326\u001b[0m     \u001b[38;5;28;01mraise\u001b[39;00m Py4JJavaError(\n\u001b[1;32m    327\u001b[0m         \u001b[38;5;124m\"\u001b[39m\u001b[38;5;124mAn error occurred while calling \u001b[39m\u001b[38;5;132;01m{0}\u001b[39;00m\u001b[38;5;132;01m{1}\u001b[39;00m\u001b[38;5;132;01m{2}\u001b[39;00m\u001b[38;5;124m.\u001b[39m\u001b[38;5;130;01m\\n\u001b[39;00m\u001b[38;5;124m\"\u001b[39m\u001b[38;5;241m.\u001b[39m\n\u001b[1;32m    328\u001b[0m         \u001b[38;5;28mformat\u001b[39m(target_id, \u001b[38;5;124m\"\u001b[39m\u001b[38;5;124m.\u001b[39m\u001b[38;5;124m\"\u001b[39m, name), value)\n\u001b[1;32m    329\u001b[0m \u001b[38;5;28;01melse\u001b[39;00m:\n\u001b[1;32m    330\u001b[0m     \u001b[38;5;28;01mraise\u001b[39;00m Py4JError(\n\u001b[1;32m    331\u001b[0m         \u001b[38;5;124m\"\u001b[39m\u001b[38;5;124mAn error occurred while calling \u001b[39m\u001b[38;5;132;01m{0}\u001b[39;00m\u001b[38;5;132;01m{1}\u001b[39;00m\u001b[38;5;132;01m{2}\u001b[39;00m\u001b[38;5;124m. Trace:\u001b[39m\u001b[38;5;130;01m\\n\u001b[39;00m\u001b[38;5;132;01m{3}\u001b[39;00m\u001b[38;5;130;01m\\n\u001b[39;00m\u001b[38;5;124m\"\u001b[39m\u001b[38;5;241m.\u001b[39m\n\u001b[1;32m    332\u001b[0m         \u001b[38;5;28mformat\u001b[39m(target_id, \u001b[38;5;124m\"\u001b[39m\u001b[38;5;124m.\u001b[39m\u001b[38;5;124m\"\u001b[39m, name, value))\n",
      "\u001b[0;31mPy4JJavaError\u001b[0m: An error occurred while calling o188.jdbc.\n: org.apache.spark.SparkException: Job aborted due to stage failure: Task 0 in stage 47.0 failed 1 times, most recent failure: Lost task 0.0 in stage 47.0 (TID 33) (fb2c885a1f24 executor driver): java.sql.BatchUpdateException: Batch entry 0 INSERT INTO CATEGORY (\"category_id\",\"category_name\",\"platform_id\") VALUES (1,'웹 개발',3) was aborted: ERROR: duplicate key value violates unique constraint \"category_pkey\"\n  Detail: Key (category_id)=(1) already exists.  Call getNextException to see other errors in the batch.\n\tat org.postgresql.jdbc.BatchResultHandler.handleError(BatchResultHandler.java:169)\n\tat org.postgresql.core.v3.QueryExecutorImpl.processResults(QueryExecutorImpl.java:2286)\n\tat org.postgresql.core.v3.QueryExecutorImpl.execute(QueryExecutorImpl.java:521)\n\tat org.postgresql.jdbc.PgStatement.internalExecuteBatch(PgStatement.java:870)\n\tat org.postgresql.jdbc.PgStatement.executeBatch(PgStatement.java:893)\n\tat org.postgresql.jdbc.PgPreparedStatement.executeBatch(PgPreparedStatement.java:1644)\n\tat org.apache.spark.sql.execution.datasources.jdbc.JdbcUtils$.savePartition(JdbcUtils.scala:740)\n\tat org.apache.spark.sql.execution.datasources.jdbc.JdbcUtils$.$anonfun$saveTable$1(JdbcUtils.scala:891)\n\tat org.apache.spark.sql.execution.datasources.jdbc.JdbcUtils$.$anonfun$saveTable$1$adapted(JdbcUtils.scala:890)\n\tat org.apache.spark.rdd.RDD.$anonfun$foreachPartition$2(RDD.scala:1009)\n\tat org.apache.spark.rdd.RDD.$anonfun$foreachPartition$2$adapted(RDD.scala:1009)\n\tat org.apache.spark.SparkContext.$anonfun$runJob$5(SparkContext.scala:2303)\n\tat org.apache.spark.scheduler.ResultTask.runTask(ResultTask.scala:92)\n\tat org.apache.spark.TaskContext.runTaskWithListeners(TaskContext.scala:161)\n\tat org.apache.spark.scheduler.Task.run(Task.scala:139)\n\tat org.apache.spark.executor.Executor$TaskRunner.$anonfun$run$3(Executor.scala:554)\n\tat org.apache.spark.util.Utils$.tryWithSafeFinally(Utils.scala:1529)\n\tat org.apache.spark.executor.Executor$TaskRunner.run(Executor.scala:557)\n\tat java.util.concurrent.ThreadPoolExecutor.runWorker(ThreadPoolExecutor.java:1149)\n\tat java.util.concurrent.ThreadPoolExecutor$Worker.run(ThreadPoolExecutor.java:624)\n\tat java.lang.Thread.run(Thread.java:750)\nCaused by: org.postgresql.util.PSQLException: ERROR: duplicate key value violates unique constraint \"category_pkey\"\n  Detail: Key (category_id)=(1) already exists.\n\tat org.postgresql.core.v3.QueryExecutorImpl.receiveErrorResponse(QueryExecutorImpl.java:2553)\n\tat org.postgresql.core.v3.QueryExecutorImpl.processResults(QueryExecutorImpl.java:2285)\n\t... 19 more\n\nDriver stacktrace:\n\tat org.apache.spark.scheduler.DAGScheduler.failJobAndIndependentStages(DAGScheduler.scala:2785)\n\tat org.apache.spark.scheduler.DAGScheduler.$anonfun$abortStage$2(DAGScheduler.scala:2721)\n\tat org.apache.spark.scheduler.DAGScheduler.$anonfun$abortStage$2$adapted(DAGScheduler.scala:2720)\n\tat scala.collection.mutable.ResizableArray.foreach(ResizableArray.scala:62)\n\tat scala.collection.mutable.ResizableArray.foreach$(ResizableArray.scala:55)\n\tat scala.collection.mutable.ArrayBuffer.foreach(ArrayBuffer.scala:49)\n\tat org.apache.spark.scheduler.DAGScheduler.abortStage(DAGScheduler.scala:2720)\n\tat org.apache.spark.scheduler.DAGScheduler.$anonfun$handleTaskSetFailed$1(DAGScheduler.scala:1206)\n\tat org.apache.spark.scheduler.DAGScheduler.$anonfun$handleTaskSetFailed$1$adapted(DAGScheduler.scala:1206)\n\tat scala.Option.foreach(Option.scala:407)\n\tat org.apache.spark.scheduler.DAGScheduler.handleTaskSetFailed(DAGScheduler.scala:1206)\n\tat org.apache.spark.scheduler.DAGSchedulerEventProcessLoop.doOnReceive(DAGScheduler.scala:2984)\n\tat org.apache.spark.scheduler.DAGSchedulerEventProcessLoop.onReceive(DAGScheduler.scala:2923)\n\tat org.apache.spark.scheduler.DAGSchedulerEventProcessLoop.onReceive(DAGScheduler.scala:2912)\n\tat org.apache.spark.util.EventLoop$$anon$1.run(EventLoop.scala:49)\n\tat org.apache.spark.scheduler.DAGScheduler.runJob(DAGScheduler.scala:971)\n\tat org.apache.spark.SparkContext.runJob(SparkContext.scala:2263)\n\tat org.apache.spark.SparkContext.runJob(SparkContext.scala:2284)\n\tat org.apache.spark.SparkContext.runJob(SparkContext.scala:2303)\n\tat org.apache.spark.SparkContext.runJob(SparkContext.scala:2328)\n\tat org.apache.spark.rdd.RDD.$anonfun$foreachPartition$1(RDD.scala:1009)\n\tat org.apache.spark.rdd.RDDOperationScope$.withScope(RDDOperationScope.scala:151)\n\tat org.apache.spark.rdd.RDDOperationScope$.withScope(RDDOperationScope.scala:112)\n\tat org.apache.spark.rdd.RDD.withScope(RDD.scala:405)\n\tat org.apache.spark.rdd.RDD.foreachPartition(RDD.scala:1007)\n\tat org.apache.spark.sql.execution.datasources.jdbc.JdbcUtils$.saveTable(JdbcUtils.scala:890)\n\tat org.apache.spark.sql.execution.datasources.jdbc.JdbcRelationProvider.createRelation(JdbcRelationProvider.scala:70)\n\tat org.apache.spark.sql.execution.datasources.SaveIntoDataSourceCommand.run(SaveIntoDataSourceCommand.scala:47)\n\tat org.apache.spark.sql.execution.command.ExecutedCommandExec.sideEffectResult$lzycompute(commands.scala:75)\n\tat org.apache.spark.sql.execution.command.ExecutedCommandExec.sideEffectResult(commands.scala:73)\n\tat org.apache.spark.sql.execution.command.ExecutedCommandExec.executeCollect(commands.scala:84)\n\tat org.apache.spark.sql.execution.QueryExecution$$anonfun$eagerlyExecuteCommands$1.$anonfun$applyOrElse$1(QueryExecution.scala:98)\n\tat org.apache.spark.sql.execution.SQLExecution$.$anonfun$withNewExecutionId$6(SQLExecution.scala:118)\n\tat org.apache.spark.sql.execution.SQLExecution$.withSQLConfPropagated(SQLExecution.scala:195)\n\tat org.apache.spark.sql.execution.SQLExecution$.$anonfun$withNewExecutionId$1(SQLExecution.scala:103)\n\tat org.apache.spark.sql.SparkSession.withActive(SparkSession.scala:827)\n\tat org.apache.spark.sql.execution.SQLExecution$.withNewExecutionId(SQLExecution.scala:65)\n\tat org.apache.spark.sql.execution.QueryExecution$$anonfun$eagerlyExecuteCommands$1.applyOrElse(QueryExecution.scala:98)\n\tat org.apache.spark.sql.execution.QueryExecution$$anonfun$eagerlyExecuteCommands$1.applyOrElse(QueryExecution.scala:94)\n\tat org.apache.spark.sql.catalyst.trees.TreeNode.$anonfun$transformDownWithPruning$1(TreeNode.scala:512)\n\tat org.apache.spark.sql.catalyst.trees.CurrentOrigin$.withOrigin(TreeNode.scala:104)\n\tat org.apache.spark.sql.catalyst.trees.TreeNode.transformDownWithPruning(TreeNode.scala:512)\n\tat org.apache.spark.sql.catalyst.plans.logical.LogicalPlan.org$apache$spark$sql$catalyst$plans$logical$AnalysisHelper$$super$transformDownWithPruning(LogicalPlan.scala:31)\n\tat org.apache.spark.sql.catalyst.plans.logical.AnalysisHelper.transformDownWithPruning(AnalysisHelper.scala:267)\n\tat org.apache.spark.sql.catalyst.plans.logical.AnalysisHelper.transformDownWithPruning$(AnalysisHelper.scala:263)\n\tat org.apache.spark.sql.catalyst.plans.logical.LogicalPlan.transformDownWithPruning(LogicalPlan.scala:31)\n\tat org.apache.spark.sql.catalyst.plans.logical.LogicalPlan.transformDownWithPruning(LogicalPlan.scala:31)\n\tat org.apache.spark.sql.catalyst.trees.TreeNode.transformDown(TreeNode.scala:488)\n\tat org.apache.spark.sql.execution.QueryExecution.eagerlyExecuteCommands(QueryExecution.scala:94)\n\tat org.apache.spark.sql.execution.QueryExecution.commandExecuted$lzycompute(QueryExecution.scala:81)\n\tat org.apache.spark.sql.execution.QueryExecution.commandExecuted(QueryExecution.scala:79)\n\tat org.apache.spark.sql.execution.QueryExecution.assertCommandExecuted(QueryExecution.scala:133)\n\tat org.apache.spark.sql.DataFrameWriter.runCommand(DataFrameWriter.scala:856)\n\tat org.apache.spark.sql.DataFrameWriter.saveToV1Source(DataFrameWriter.scala:387)\n\tat org.apache.spark.sql.DataFrameWriter.saveInternal(DataFrameWriter.scala:360)\n\tat org.apache.spark.sql.DataFrameWriter.save(DataFrameWriter.scala:247)\n\tat org.apache.spark.sql.DataFrameWriter.jdbc(DataFrameWriter.scala:753)\n\tat sun.reflect.NativeMethodAccessorImpl.invoke0(Native Method)\n\tat sun.reflect.NativeMethodAccessorImpl.invoke(NativeMethodAccessorImpl.java:62)\n\tat sun.reflect.DelegatingMethodAccessorImpl.invoke(DelegatingMethodAccessorImpl.java:43)\n\tat java.lang.reflect.Method.invoke(Method.java:498)\n\tat py4j.reflection.MethodInvoker.invoke(MethodInvoker.java:244)\n\tat py4j.reflection.ReflectionEngine.invoke(ReflectionEngine.java:374)\n\tat py4j.Gateway.invoke(Gateway.java:282)\n\tat py4j.commands.AbstractCommand.invokeMethod(AbstractCommand.java:132)\n\tat py4j.commands.CallCommand.execute(CallCommand.java:79)\n\tat py4j.ClientServerConnection.waitForCommands(ClientServerConnection.java:182)\n\tat py4j.ClientServerConnection.run(ClientServerConnection.java:106)\n\tat java.lang.Thread.run(Thread.java:750)\nCaused by: java.sql.BatchUpdateException: Batch entry 0 INSERT INTO CATEGORY (\"category_id\",\"category_name\",\"platform_id\") VALUES (1,'웹 개발',3) was aborted: ERROR: duplicate key value violates unique constraint \"category_pkey\"\n  Detail: Key (category_id)=(1) already exists.  Call getNextException to see other errors in the batch.\n\tat org.postgresql.jdbc.BatchResultHandler.handleError(BatchResultHandler.java:169)\n\tat org.postgresql.core.v3.QueryExecutorImpl.processResults(QueryExecutorImpl.java:2286)\n\tat org.postgresql.core.v3.QueryExecutorImpl.execute(QueryExecutorImpl.java:521)\n\tat org.postgresql.jdbc.PgStatement.internalExecuteBatch(PgStatement.java:870)\n\tat org.postgresql.jdbc.PgStatement.executeBatch(PgStatement.java:893)\n\tat org.postgresql.jdbc.PgPreparedStatement.executeBatch(PgPreparedStatement.java:1644)\n\tat org.apache.spark.sql.execution.datasources.jdbc.JdbcUtils$.savePartition(JdbcUtils.scala:740)\n\tat org.apache.spark.sql.execution.datasources.jdbc.JdbcUtils$.$anonfun$saveTable$1(JdbcUtils.scala:891)\n\tat org.apache.spark.sql.execution.datasources.jdbc.JdbcUtils$.$anonfun$saveTable$1$adapted(JdbcUtils.scala:890)\n\tat org.apache.spark.rdd.RDD.$anonfun$foreachPartition$2(RDD.scala:1009)\n\tat org.apache.spark.rdd.RDD.$anonfun$foreachPartition$2$adapted(RDD.scala:1009)\n\tat org.apache.spark.SparkContext.$anonfun$runJob$5(SparkContext.scala:2303)\n\tat org.apache.spark.scheduler.ResultTask.runTask(ResultTask.scala:92)\n\tat org.apache.spark.TaskContext.runTaskWithListeners(TaskContext.scala:161)\n\tat org.apache.spark.scheduler.Task.run(Task.scala:139)\n\tat org.apache.spark.executor.Executor$TaskRunner.$anonfun$run$3(Executor.scala:554)\n\tat org.apache.spark.util.Utils$.tryWithSafeFinally(Utils.scala:1529)\n\tat org.apache.spark.executor.Executor$TaskRunner.run(Executor.scala:557)\n\tat java.util.concurrent.ThreadPoolExecutor.runWorker(ThreadPoolExecutor.java:1149)\n\tat java.util.concurrent.ThreadPoolExecutor$Worker.run(ThreadPoolExecutor.java:624)\n\t... 1 more\nCaused by: org.postgresql.util.PSQLException: ERROR: duplicate key value violates unique constraint \"category_pkey\"\n  Detail: Key (category_id)=(1) already exists.\n\tat org.postgresql.core.v3.QueryExecutorImpl.receiveErrorResponse(QueryExecutorImpl.java:2553)\n\tat org.postgresql.core.v3.QueryExecutorImpl.processResults(QueryExecutorImpl.java:2285)\n\t... 19 more\n"
     ]
    }
   ],
   "source": [
    "# # 데이터베이스에 CATEGORY 정보 삽입\n",
    "# df_category.write.jdbc(url=db_url, table=\"CATEGORY\", mode=\"append\", properties=db_properties)\n",
    "\n",
    "# # 데이터베이스에 SUBCATEGORY 정보 삽입\n",
    "# df_subcategory.write.jdbc(url=db_url, table=\"SUBCATEGORY\", mode=\"append\", properties=db_properties)"
   ]
  },
  {
   "cell_type": "code",
   "execution_count": 9,
   "id": "ecc010e6-be94-46ef-b168-6080a6c0b909",
   "metadata": {},
   "outputs": [
    {
     "name": "stdout",
     "output_type": "stream",
     "text": [
      "+--------------+--------------------+-----------+\n",
      "|subcategory_id|    subcategory_name|category_id|\n",
      "+--------------+--------------------+-----------+\n",
      "|             1|              Python|          4|\n",
      "|             2|          JavaScript|          4|\n",
      "|             3|        데이터베이스|          5|\n",
      "|             4|         업무 자동화|          5|\n",
      "|             5|           개발 도구|          5|\n",
      "|             6|             IT 교양|          5|\n",
      "|             7|              디자인|          5|\n",
      "|             8|          프론트엔드|          1|\n",
      "|             9|              백엔드|          1|\n",
      "|            10|              풀스택|          1|\n",
      "|            11|         데이터 분석|          2|\n",
      "|            12|           인공 지능|          2|\n",
      "|            13|     프로그래밍 기초|          3|\n",
      "|            14|   알고리즘·자료구조|          3|\n",
      "|            15|객체 지향 프로그래밍|          3|\n",
      "+--------------+--------------------+-----------+\n",
      "\n",
      "+-----------------+-----------------------------+-----------------------------------+--------------+--------------------+--------------+\n",
      "| subcategory_name|                 course_title|                            summary|num_of_lecture|                 url|subcategory_id|\n",
      "+-----------------+-----------------------------+-----------------------------------+--------------+--------------------+--------------+\n",
      "|       프론트엔드|    Next.js로 웹사이트 만들기|      요즘 React 기반으로 웹사이...|            48|https://www.codei...|             8|\n",
      "|       프론트엔드|      React로 웹사이트 만들기|  대부분의 웹사이트는 여러 개의 ...|            22|https://www.codei...|             8|\n",
      "|       프론트엔드|           Next.js API 만들기|  프론트엔드 개발은 어느 정도 익...|            29|https://www.codei...|             8|\n",
      "|       프론트엔드|                CSS 핵심 개념|  웹 퍼블리싱과 프론트엔드 개발 ...|            64|https://www.codei...|             8|\n",
      "|       프론트엔드|                 CSS 레이아웃|  웹사이트에 있는 여러 가지 요소...|            54|https://www.codei...|             8|\n",
      "|     데이터베이스|       SQL로 하는 데이터 관리|   데이터베이스를 다루려면 SQL이...|            57|https://www.codei...|             3|\n",
      "|     데이터베이스|          데이터베이스 모델링|데이터베이스에 데이터를 저장하는...|            47|https://www.codei...|             3|\n",
      "|       JavaScript|프로그래밍 핵심 개념 in Ja...|  프로그래밍은 몇 가지 핵심 개념...|            57|https://www.codei...|             2|\n",
      "|           풀스택|                  Django CRUD|      CRUD는 데이터를 다룰 때 반...|            79|https://www.codei...|            10|\n",
      "|           풀스택|         Django 모델 파헤치기|  웹 서비스에서 다양한 기능을 쉽...|            95|https://www.codei...|            10|\n",
      "|           풀스택|    Django 유저 기능 구현하기| 요즘 대부분의 웹사이트는 회원가...|            90|https://www.codei...|            10|\n",
      "|      데이터 분석|         데이터 분석과 시각화|  데이터를 분석한 결과를 누구나 ...|            56|https://www.codei...|            11|\n",
      "|      데이터 분석|       SQL로 하는 데이터 분석|   데이터베이스를 다루려면 SQL이...|            97|https://www.codei...|            11|\n",
      "|        인공 지능|             인공 신경망 이론|  인공 지능은 기계가 사람처럼 행...|            54|https://www.codei...|            12|\n",
      "|        인공 지능|      결정 트리와 앙상블 기법|   결정 트리는 예/아니오로 답할 ...|            43|https://www.codei...|            12|\n",
      "|          IT 교양|                     블록체인|   블록체인, 암호화폐, 비트코인,...|            23|https://www.codei...|             6|\n",
      "|          IT 교양|               챗GPT 활용하기|      챗GPT, 신기하긴 한데 막상 ...|            21|https://www.codei...|             6|\n",
      "|          IT 교양|              클라우드 컴퓨팅|   클라우드 컴퓨팅, 언뜻 보기엔 ...|            38|https://www.codei...|             6|\n",
      "|           Python|프로그래밍 핵심 개념 in Py...|  프로그래밍은 몇 가지 핵심 개념...|            46|https://www.codei...|             1|\n",
      "|알고리즘·자료구조|            알고리즘 패러다임| 알고리즘의 세계에도 모범 답안이...|            43|https://www.codei...|            14|\n",
      "+-----------------+-----------------------------+-----------------------------------+--------------+--------------------+--------------+\n",
      "only showing top 20 rows\n",
      "\n"
     ]
    }
   ],
   "source": [
    "df_subcategory = spark.read.jdbc(url=db_url, table=\"SUBCATEGORY\", properties=db_properties)\n",
    "df_subcategory.show()\n",
    "\n",
    "df_course = df_course.join(df_subcategory, df_course.subcategory_name == df_subcategory.subcategory_name, \"left_outer\") \\\n",
    "    .select(df_course[\"*\"], df_subcategory.subcategory_id.alias(\"subcategory_id\"))\n",
    "\n",
    "df_course.show()"
   ]
  },
  {
   "cell_type": "code",
   "execution_count": 10,
   "id": "4ee1fa84-bfc0-49f6-a130-afd5c9f17552",
   "metadata": {},
   "outputs": [
    {
     "name": "stdout",
     "output_type": "stream",
     "text": [
      "81\n",
      "81\n"
     ]
    }
   ],
   "source": [
    "# 모든 컬럼 이름 가져오기\n",
    "all_columns = df_course.columns\n",
    "\n",
    "# \"subcategory_name\"을 제외한 컬럼 이름 리스트 만들기\n",
    "columns_to_select = [col for col in all_columns if col != \"subcategory_name\"]\n",
    "\n",
    "# 해당 컬럼들을 선택하여 새로운 데이터프레임 생성\n",
    "df_course = df_course.select(*columns_to_select)\n",
    "\n",
    "# # 데이터베이스에 SUBCATEGORY 정보 삽입\n",
    "# df_course.write.jdbc(url=db_url, table=\"COURSE\", mode=\"append\", properties=db_properties)"
   ]
  },
  {
   "cell_type": "code",
   "execution_count": null,
   "id": "1f743127-fee3-4ad0-ad81-2bf5c3e8377c",
   "metadata": {},
   "outputs": [],
   "source": [
    "# Spark 세션 종료\n",
    "spark.stop()"
   ]
  }
 ],
 "metadata": {
  "kernelspec": {
   "display_name": "Python 3 (ipykernel)",
   "language": "python",
   "name": "python3"
  },
  "language_info": {
   "codemirror_mode": {
    "name": "ipython",
    "version": 3
   },
   "file_extension": ".py",
   "mimetype": "text/x-python",
   "name": "python",
   "nbconvert_exporter": "python",
   "pygments_lexer": "ipython3",
   "version": "3.10.12"
  }
 },
 "nbformat": 4,
 "nbformat_minor": 5
}
